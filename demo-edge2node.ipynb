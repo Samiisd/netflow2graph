{
 "cells": [
  {
   "cell_type": "code",
   "execution_count": 2,
   "metadata": {},
   "outputs": [],
   "source": [
    "import flow2graph\n",
    "from pathlib import Path\n",
    "import networkx as nx\n",
    "\n",
    "import torch\n",
    "import dgl\n",
    "import numpy as np"
   ]
  },
  {
   "cell_type": "code",
   "execution_count": 41,
   "metadata": {},
   "outputs": [],
   "source": [
    "import dgl.nn as dglnn\n",
    "import dgl.function as fn\n",
    "import torch.nn as nn\n",
    "import torch.nn.functional as F\n",
    "\n",
    "class EdgeToNode(nn.Module):\n",
    "    def __init__(self, in_features, out_features, non_linear=None):\n",
    "        super().__init__()\n",
    "#         with torch.no_grad():\n",
    "#             self.linear_in.weight.data = (torch.ones_like(self.linear_in.weight.data))\n",
    "#             self.linear_out.weight.data = (-2 * torch.ones_like(self.linear_out.weight.data))\n",
    "        \n",
    "    def forward(self, graph: dgl.DGLGraph, h):\n",
    "        h_in = h\n",
    "        h_out = -2 * h\n",
    "        \n",
    "        with graph.local_scope(): \n",
    "            graph.edata['e_in'] = h_in\n",
    "            graph.edata['e_out'] = h_out\n",
    "            \n",
    "            # copying `e_in` edge feature to dst node + aggregating with sum into `n_in`\n",
    "            graph.update_all(fn.copy_e('e_in', 'n_in'), fn.sum('n_in', 'n_in')) \n",
    "            \n",
    "            # reversing the graph so that src nodes become dst nodes\n",
    "            r_graph = graph.reverse(copy_ndata=True, copy_edata=True) \n",
    "            # copying `e_out` edge feature to src node + aggregating with sum into `n_in`\n",
    "            r_graph.update_all(fn.copy_e('e_out', 'n_out'), fn.sum('n_out', 'n_out')) \n",
    "            \n",
    "            return graph.ndata['n_in'] + r_graph.ndata['n_out']"
   ]
  },
  {
   "cell_type": "code",
   "execution_count": 70,
   "metadata": {},
   "outputs": [],
   "source": [
    "import networkx as nx\n",
    "\n",
    "e2n = EdgeToNode(in_features=1, out_features=2)\n",
    "\n",
    "uv = [0, 1, 2, 3], [1, 3, 1, 1]\n",
    "G = dgl.graph(uv)\n",
    "G.edata['w'] = torch.tensor([10., 2., -3., 5.])\n",
    "G.ndata['h'] = e2n(G, G.edata['w'])\n",
    "\n",
    "nx_G = G.to_networkx(node_attrs=['h'], edge_attrs=['w']).to_directed()\n",
    "Kamada-Kawaii layout usually looks pretty for arbitrary graphs\n",
    "pos = nx.spring_layout(nx_G)\n",
    "labels = nx.get_edge_attributes(nx_G,'w')\n",
    "# nx.draw_networkx_edge_labels(nx_G,pos,edge_labels=labels)\n",
    "# nx.draw(nx_G, pos, with_labels=True, node_color=[[.7, .7, .7]], connectionstyle='arc3, rad = 0.3')"
   ]
  },
  {
   "cell_type": "code",
   "execution_count": 71,
   "metadata": {},
   "outputs": [
    {
     "data": {
      "text/plain": [
       "tensor([-20.,   8.,   6.,  -8.])"
      ]
     },
     "execution_count": 71,
     "metadata": {},
     "output_type": "execute_result"
    }
   ],
   "source": [
    "# labels = nx.get_edge_attributes(G,'weight')\n",
    "# nx.draw_networkx_edge_labels(G,pos,edge_labels=labels)\n",
    "# labels.items()\n",
    "# for a, b, label in nx.get_edge_attributes(nx_G,'w'):\n",
    "#     print(a, b, label)\n",
    "G.ndata['h']"
   ]
  }
 ],
 "metadata": {
  "kernelspec": {
   "display_name": "Python 3",
   "language": "python",
   "name": "python3"
  },
  "language_info": {
   "codemirror_mode": {
    "name": "ipython",
    "version": 3
   },
   "file_extension": ".py",
   "mimetype": "text/x-python",
   "name": "python",
   "nbconvert_exporter": "python",
   "pygments_lexer": "ipython3",
   "version": "3.8.5"
  }
 },
 "nbformat": 4,
 "nbformat_minor": 4
}
