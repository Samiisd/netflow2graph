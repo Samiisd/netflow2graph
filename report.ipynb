{
 "cells": [
  {
   "cell_type": "markdown",
   "metadata": {},
   "source": [
    "# GCN for Network Anomaly Detection\n",
    "\n",
    "\n",
    "This notebook introduces methods to use [**Graph Convolutional Network**](https://tkipf.github.io/graph-convolutional-networks/) (**GCN**) to detect anomalies in network flows.\n",
    "Being able to detect such anomalies could help preventing/stopping network attacks."
   ]
  },
  {
   "cell_type": "markdown",
   "metadata": {},
   "source": [
    "## Introduction"
   ]
  },
  {
   "cell_type": "markdown",
   "metadata": {},
   "source": [
    "### Introduction to GCN\n",
    "\n",
    "The basic idea behind **GCN** is the aggregation of the features from the neihborhood of each nodes. By repeating this operation $k$ times for a given node $U$, its resulting features is a combination of the features of the $k$-hop neighborhood of $U$.\n",
    "\n",
    "![GCN Animation Medium](https://miro.medium.com/max/600/1*wt31DAeKTVeDWmPqKprycw.gif)\n",
    "\n",
    "This simple yet powerfull operation allows us to capture implicit topological information of the node as well as explicit features. The resulting features can be used to determine the role of a node within the sub-graph it belongs to.\n",
    "\n",
    "> *Incrementing $k$ increases the diameter of the sub-graph from which $U$ is the center, however that doesn't make the model better since it can lead to [**over-smoothing**](https://arxiv.org/pdf/1812.08434.pdf), which results in having the same resulting features for all the nodes in the graph*\n",
    "\n",
    "To make it short, GCN propagate nodes features through edges."
   ]
  },
  {
   "cell_type": "markdown",
   "metadata": {},
   "source": [
    "### GCN for network anomaly detection\n",
    "\n",
    "#### Network capture to Graph\n",
    "A network snapshot can be represented by a graph by considering IPs as nodes and packet exchanges between IPs as edges (*ex: IP_A send TCP request to IP_B*). \n",
    "\n",
    "Below is shown a visualization of a network snapshot of 60 seconds:\n",
    "\n",
    "![Network graph representation](./data/network_image.png)\n",
    "\n",
    "#### Useful graph geometry\n",
    "\n",
    "The role of some nodes on the network can be guessed just by watching the graph representation.\n",
    "\n",
    "> For example, the **DNS** servers are probably the nodes at the center of the big clusters.\n",
    "\n",
    "We can hence infer **topological information are meaningful** in those graph and that **GCN** could be relevant to detect anomalies as detailed [here](https://github.com/harvardnlp/botnet-detection).\n",
    "\n",
    "#### Needs for more features\n",
    "\n",
    "However, **topological information are not sufficient** to detect more elabored attacks. For that purpose, **we need more features**, for example:\n",
    "\n",
    "- IP geographic localization\n",
    "- IP Reputation score (from websites as [UrlVoid](https://www.urlvoid.com/) for example)\n",
    "- IP Service Provider (ISP)\n",
    "\n",
    "However, those are information we don't necesseraly have access on the public datasets we can use to train our model. More generally, **we don't have access to any IP (graph node) related information for privacy reasons**.\n",
    "\n",
    "#### Edge-based features\n",
    "\n",
    "Fortunately, we can **interpolate features from packets**, within a certain time window:\n",
    "\n",
    "- Quantity of bytes (min, mean, median, max, std)\n",
    "- Number of packets\n",
    "- Protocol (TCP, UDP, ICMP)\n",
    "- Frequency\n",
    "- Connection Probability (that we could generate using another model)\n",
    "- Exchange history (encoded exchanges history, represented by a vector)\n",
    "- ...\n",
    "\n",
    "> That's true for almost all the available public datasets I've worked on: [CTU-13](https://www.stratosphereips.org/datasets-ctu13), [CSE-CIC-IDS2018 (2018)](https://www.unb.ca/cic/datasets/ids-2018.html), [UGR'16 (2016)](https://nesg.ugr.es/nesg-ugr16/index.php).\n",
    "\n",
    "Unfortunately, **GCNs are not defined to handle features on edges** and require features for nodes that we can not provide.\n",
    "\n",
    "#### Node features interpolation from edges\n",
    "\n",
    "Even if we were to have access to private IPs (node) information and therefore would have features on the nodes, we cannot ignore information from IPs interactions (edges).\n",
    "\n",
    "The issue is that there are, to the best of my knowledge, no researches on the subject.\n",
    "\n",
    "In this notebook, I try to explore a solution that I've naively entitled **Edge2Node** that consists of **interpolating node features as a non-linear combination of the in/out edges**. "
   ]
  },
  {
   "cell_type": "markdown",
   "metadata": {},
   "source": [
    "### Requirements\n",
    "At the time of writting this notebook, there are 3 major Deep Learning Graph libraries in python:\n",
    "\n",
    "- [Pytorch Geometric](https://github.com/rusty1s/pytorch_geometric)\n",
    "- [GraphNets](https://github.com/deepmind/graph_nets)\n",
    "- [Deep Graph Library (DGL)](https://github.com/dmlc/dgl)\n",
    "\n",
    "There aren't any concrete comparisons between the three yet, so I jut went with the one that attracted me the most. Since I'm more used to **PyTorch**, I've ignored **GraphNets**. **PyTorch-Geometric** implements a lot a GCN papers, however, it seemed a bit rough to me compared to **DGL**, which appeared to have a well thought pipeline and plans for the future.\n",
    "\n",
    "Conclusion, I had no real reasons to went with **DGL**, that's just intuition."
   ]
  },
  {
   "cell_type": "code",
   "execution_count": 15,
   "metadata": {},
   "outputs": [
    {
     "name": "stdout",
     "output_type": "stream",
     "text": [
      "Requirement already satisfied: torch==1.6.0 in /home/ultra/.local/lib/python3.8/site-packages (1.6.0)\n",
      "Requirement already satisfied: dgl==0.5.2 in /home/ultra/.local/lib/python3.8/site-packages (0.5.2)\n",
      "Requirement already satisfied: networkx==2.4 in /home/ultra/.local/lib/python3.8/site-packages (2.4)\n",
      "Requirement already satisfied: numpy==1.19.3 in /home/ultra/.local/lib/python3.8/site-packages (1.19.3)\n",
      "Requirement already satisfied: matplotlib==3.3.1 in /home/ultra/.local/lib/python3.8/site-packages (3.3.1)\n",
      "Requirement already satisfied: tqdm in /home/ultra/.local/lib/python3.8/site-packages (4.45.0)\n",
      "Requirement already satisfied: future in /home/ultra/.local/lib/python3.8/site-packages (from torch==1.6.0) (0.18.2)\n",
      "Requirement already satisfied: scipy>=1.1.0 in /home/ultra/.local/lib/python3.8/site-packages (from dgl==0.5.2) (1.4.1)\n",
      "Requirement already satisfied: requests>=2.19.0 in /opt/miniconda3/lib/python3.8/site-packages (from dgl==0.5.2) (2.24.0)\n",
      "Requirement already satisfied: decorator>=4.3.0 in /home/ultra/.local/lib/python3.8/site-packages (from networkx==2.4) (4.4.2)\n",
      "Requirement already satisfied: python-dateutil>=2.1 in /home/ultra/.local/lib/python3.8/site-packages (from matplotlib==3.3.1) (2.8.1)\n",
      "Requirement already satisfied: kiwisolver>=1.0.1 in /home/ultra/.local/lib/python3.8/site-packages (from matplotlib==3.3.1) (1.2.0)\n",
      "Requirement already satisfied: pillow>=6.2.0 in /home/ultra/.local/lib/python3.8/site-packages (from matplotlib==3.3.1) (7.2.0)\n",
      "Requirement already satisfied: pyparsing!=2.0.4,!=2.1.2,!=2.1.6,>=2.0.3 in /home/ultra/.local/lib/python3.8/site-packages (from matplotlib==3.3.1) (2.4.7)\n",
      "Requirement already satisfied: cycler>=0.10 in /home/ultra/.local/lib/python3.8/site-packages (from matplotlib==3.3.1) (0.10.0)\n",
      "Requirement already satisfied: certifi>=2020.06.20 in /home/ultra/.local/lib/python3.8/site-packages (from matplotlib==3.3.1) (2020.6.20)\n",
      "Requirement already satisfied: urllib3!=1.25.0,!=1.25.1,<1.26,>=1.21.1 in /home/ultra/.local/lib/python3.8/site-packages (from requests>=2.19.0->dgl==0.5.2) (1.24.3)\n",
      "Requirement already satisfied: idna<3,>=2.5 in /opt/miniconda3/lib/python3.8/site-packages (from requests>=2.19.0->dgl==0.5.2) (2.10)\n",
      "Requirement already satisfied: chardet<4,>=3.0.2 in /opt/miniconda3/lib/python3.8/site-packages (from requests>=2.19.0->dgl==0.5.2) (3.0.4)\n",
      "Requirement already satisfied: six>=1.5 in /home/ultra/.local/lib/python3.8/site-packages (from python-dateutil>=2.1->matplotlib==3.3.1) (1.15.0)\n"
     ]
    }
   ],
   "source": [
    "!pip install --user torch==1.6.0 dgl==0.5.2 networkx==2.4 numpy==1.19.3 matplotlib==3.3.1 tqdm"
   ]
  },
  {
   "cell_type": "code",
   "execution_count": 22,
   "metadata": {},
   "outputs": [],
   "source": [
    "import dgl\n",
    "import torch\n",
    "import networkx as nx\n",
    "import numpy as np\n",
    "from tqdm.notebook import tqdm"
   ]
  },
  {
   "cell_type": "markdown",
   "metadata": {},
   "source": [
    "### Project decomposition\n",
    "\n",
    "The notebook has required the following steps:\n",
    "\n",
    "1. Dataset Preparation:\n",
    "    - Truncate raw PCAP (drop useless data)\n",
    "    - Slide time Window\n",
    "    - Extract features for each interaction IP_A to IP_B within window (nb packets, nb bytes sent...)\n",
    "    - Graph Generation\n",
    "    \n",
    "2. GCN Model Design:\n",
    "    - Generate nodes features from in/out edges (**Edge2Node**)\n",
    "    - Apply GCN on the graph (using predicted nodes features)\n",
    "    - Generate edges embedding from new nodes features (**Node2Edge**)\n",
    "    - Classify nodes and edges using the computed features\n",
    "    \n",
    "3. Training:\n",
    "    - Loss to penalize errors on edge/node classification\n",
    "    - Basic ML pytorch training loop\n",
    "    - Model Evaluation\n",
    "    \n",
    "However, we will mainly focus on the step **2. GCN Model Design** here since the others steps are just a draft used for the proof of concept. "
   ]
  },
  {
   "cell_type": "markdown",
   "metadata": {},
   "source": [
    "## Edge2Node\n",
    "\n",
    "**Edge2Node** is the method we'll use to interpolate nodes features from edges features.\n",
    "\n",
    "> The idea is to describe a node as the influence it has on its neighbors and the influence they have on itself."
   ]
  },
  {
   "cell_type": "markdown",
   "metadata": {},
   "source": [
    "### Proof Of Concept\n",
    "\n",
    "In this section, we will apply the **Edge2Node** idea to a toy example.\n",
    "\n",
    "#### Problem definition\n",
    "\n",
    "Let's suppose we have the following graph where edges model heat transfer between nodes:\n",
    "\n",
    "![edge2node_image](./data/edge2node_demo.png)\n",
    "\n",
    "How can we classify the nodes into the categories: **COLD**, **HOT** ?\n",
    "\n",
    "##### Intuitive solution\n",
    "\n",
    "An intuitive solution is to assert that a node is best described by its contribution to the local system stabilization, then the feature $F$ of a node $u$ would be: \n",
    "\n",
    "$$F(u) = \\sum_{v \\in \\mathcal{N}_{in}(u)}{W(v, u)}  - \\sum_{v \\in \\mathcal{N}_{out}(u)}{W(u, v)}$$\n",
    "\n",
    "It can be interpreted as : *A node loses the energy that goes through its out-edges and wins the energy that comes from its in-edges*.\n",
    "\n",
    "##### Solution application\n",
    "\n",
    "This process is represented by the following animation:\n",
    "\n",
    "![edge2node_demo](./data/edge2node.gif)\n",
    "\n",
    "We calculate that the contribution of the node $A$ to its neighborhood is:\n",
    "\n",
    "$$F(A) = W(C, A) - W(A, B) = -16 - 20 = -36$$\n",
    "\n",
    "Hence, the node $A$ loses a lot of heat, there is a **high probability** that a **HOT** node.\n",
    "\n",
    "By applying the same idea to the other nodes, we have:\n",
    "- $B$ gains a **bit** of heat (+4), there is a **slightly higher probability** that it is a **COLD** node\n",
    "- $C$ gains a **lot** of heat (+32), there is a **high probability** that it is a **COLD** node\n",
    "\n",
    "#### DGL implementation"
   ]
  },
  {
   "cell_type": "code",
   "execution_count": 3,
   "metadata": {},
   "outputs": [],
   "source": [
    "class DummyEdgeToNode(torch.nn.Module):\n",
    "    def forward(self, graph: dgl.DGLGraph, h):\n",
    "        \"\"\"\n",
    "        graph: DGLGraph on which we apply the operation\n",
    "        h: tensor of all edges features\n",
    "        \"\"\"\n",
    "        h_in  = h  # in-edges  -> energy gain\n",
    "        h_out = -h # out-edges -> energy loses\n",
    "        \n",
    "        # operations on local_scope do not affect the input graph\n",
    "        with graph.local_scope():\n",
    "            # shallow copy of the computed `h_in` and `h_out` as edges features\n",
    "            graph.edata['e_in'] = h_in\n",
    "            graph.edata['e_out'] = h_out\n",
    "            \n",
    "            # 1. Handle IN-EDGES\n",
    "            # build and apply message passing function to the graph\n",
    "            graph.update_all(\n",
    "                # copy in-edges features `e_in` in the mailboxes `n_in` of the nodes\n",
    "                dgl.function.copy_e('e_in', 'n_in'), \n",
    "                # reduce the messages of the mailboxes `n_in` by summing them and store\n",
    "                # the result into `n_in`\n",
    "                dgl.function.sum('n_in', 'n_in')\n",
    "            )\n",
    "            \n",
    "            # 2. Handle OUT-EDGES\n",
    "            # At the time of writing, we can't apply message passing algorithm on out-edges\n",
    "            # with DGL. The only way I've found is to re-apply the previous logic on the\n",
    "            # reversed-graph, so the out-edges become in-edges.\n",
    "            graph = graph.reverse(copy_ndata=True, copy_edata=True)\n",
    "            graph.update_all(\n",
    "                dgl.function.copy_e('e_out', 'n_out'), \n",
    "                dgl.function.sum('n_out', 'n_out')\n",
    "            )\n",
    "            \n",
    "            return graph.ndata['n_in'] + graph.ndata['n_out']"
   ]
  },
  {
   "cell_type": "code",
   "execution_count": 4,
   "metadata": {},
   "outputs": [
    {
     "name": "stdout",
     "output_type": "stream",
     "text": [
      "A = -36.0\n",
      "B = 4.0\n",
      "C = 32.0\n"
     ]
    }
   ],
   "source": [
    "dummy_e2n = DummyEdgeToNode()\n",
    "\n",
    "# we create the toy example graph\n",
    "uv = [0, 1, 2, 2], [1, 2, 1, 0] # directed edges ('A'<=>0, 'B'<=>1, 'C'<=>2)\n",
    "G = dgl.graph(uv)\n",
    "\n",
    "# we apply the dummy e2n\n",
    "edge_features = torch.tensor([20., 12., -4., -16.])\n",
    "node_features = dummy_e2n(graph=G, h=edge_features).numpy()\n",
    "\n",
    "## tada!\n",
    "print(f\"A = {node_features[0]}\")\n",
    "print(f\"B = {node_features[1]}\")\n",
    "print(f\"C = {node_features[2]}\")"
   ]
  },
  {
   "cell_type": "markdown",
   "metadata": {},
   "source": [
    "##### Going Further\n",
    "This simple idea seems to be enough on a small graph like this one, but what if the graph contained thousands of nodes?\n",
    "\n",
    "We would need to look further than the direct node neighborhood to truly understand its role on the graph. Now that we have features on the nodes, we can introduce **GCN** to better capture the role of the node within the graph."
   ]
  },
  {
   "cell_type": "markdown",
   "metadata": {},
   "source": [
    "### Formula upgrade\n",
    "\n",
    "The difference between the previously seen **DummyEdgeToNode** and the real one, is that instead of having a fixed (hardcoded) combination, which in our case was:\n",
    "\n",
    "$$F(u) = \\sum_{v \\in \\mathcal{N}_{in}(u)}{W(v, u)} - \\sum_{v \\in \\mathcal{N}_{out}(u)}{W(u, v)}$$\n",
    "\n",
    "\n",
    "This formula handles different type of edges on different type of graphs the same way while this is not always relevant. There might be cases when the out-edges have less impact than the in-edge, or cases when a given feature of the feature tensor has more impact on out-edges while another one has a negative impact on in-edges.\n",
    "\n",
    "To handle those various differences (which depend on the type of graphs, edges, features), make the formula a bit more sofisticated:\n",
    "\n",
    "$$F(u) = \\theta(\\sum_{v \\in \\mathcal{N}_{in}(u)}{\\sigma(\\theta_{in}(W(v, u)))} + \\sum_{v \\in \\mathcal{N}_{out}(u)}{\\sigma(\\theta_{out}(W(u, v)))})$$\n",
    "\n",
    "Where:\n",
    "- $\\sigma$ is a non-linear function (ex: RElu, sigmoid, tanh...)\n",
    "- $\\theta, \\theta_{in}, \\theta_{out}$ are function with parameters to be optimized (ex: Linear torch layer)\n",
    "- $W(u, v)$ returns the features of the edge $(u,v)$\n",
    "\n",
    "> There are no restrictions on $\\theta, \\theta_{in}, \\theta_{out}$ (e.g. it can be a deep CNN as it can be a simple linear layer)\n",
    "\n",
    "It should allow **Edge2Node** to scale to different graphs."
   ]
  },
  {
   "cell_type": "code",
   "execution_count": 5,
   "metadata": {},
   "outputs": [],
   "source": [
    "class EdgeToNode(torch.nn.Module):\n",
    "    def __init__(self, in_features, hid_features, out_features, non_linear=None):\n",
    "        super().__init__()\n",
    "        self.linear_in = torch.nn.Linear(in_features, hid_features) # theta_in\n",
    "        self.linear_out = torch.nn.Linear(in_features, hid_features) # theta_out\n",
    "        self.linear_final = torch.nn.Linear(hid_features, out_features) # theta\n",
    "        self.non_linear = non_linear or torch.nn.Identity()\n",
    "        \n",
    "    def forward(self, graph: dgl.DGLGraph, h):\n",
    "        # apply theta_in and theta_out to edges features\n",
    "        h_in, h_out = self.linear_in(h), self.linear_out(h)\n",
    "        # apply sigma (non_linear) to `h_in` and `h_out`\n",
    "        h_in, h_out = self.non_linear(h_in), self.non_linear(h_out)\n",
    "        \n",
    "        with graph.local_scope(): \n",
    "            graph.edata['e_in'] = h_in\n",
    "            graph.edata['e_out'] = h_out\n",
    "            \n",
    "            graph.update_all(\n",
    "                dgl.function.copy_e('e_in', 'n_in'),\n",
    "                dgl.function.sum('n_in', 'n_in')\n",
    "            ) \n",
    "            \n",
    "            graph = graph.reverse(copy_ndata=True, copy_edata=True) \n",
    "            graph.update_all(\n",
    "                dgl.function.copy_e('e_out', 'n_out'),\n",
    "                dgl.function.sum('n_out', 'n_out')\n",
    "            ) \n",
    "            \n",
    "            return self.linear_final(graph.ndata['n_in'] + graph.ndata['n_out'])"
   ]
  },
  {
   "cell_type": "markdown",
   "metadata": {},
   "source": [
    "### Node2Edge\n",
    "\n",
    "For edge classification, we need to do the process inverse of **Edge2Node**. In fact, after we've applied a GCN to have meaningful node embedding, we need to \"send\" those information on edges. \n",
    "\n",
    "This can be done the following way:\n",
    "\n",
    "$$W(u, v) = \\theta( \\sigma(\\theta_{src}(F(u))) + \\sigma(\\theta_{dst}(F(v))) )$$\n",
    "\n",
    "The intuition behind is the same as **Edge2Node**"
   ]
  },
  {
   "cell_type": "code",
   "execution_count": 6,
   "metadata": {},
   "outputs": [],
   "source": [
    "class NodeToEdge(torch.nn.Module):\n",
    "    def __init__(self, in_features, hid_features, out_features, non_linear=None):\n",
    "        super().__init__()\n",
    "        self.linear_src = torch.nn.Linear(in_features, hid_features)\n",
    "        self.linear_dst = torch.nn.Linear(in_features, hid_features)\n",
    "        self.linear_final = torch.nn.Linear(hid_features, out_features)\n",
    "        self.non_linear = non_linear or nn.Identity()\n",
    "        \n",
    "    def forward(self, graph, h):\n",
    "        with graph.local_scope():\n",
    "            graph.ndata['h'] = h\n",
    "            graph.edata['h'] = torch.zeros((graph.number_of_edges(), h.shape[-1]))\n",
    "            \n",
    "            graph.apply_edges(dgl.function.e_add_u('h', 'h', 'h_src'))\n",
    "            graph.apply_edges(dgl.function.e_add_v('h', 'h', 'h_dst'))\n",
    "            \n",
    "            h_src = self.linear_src(graph.edata['h_src'])\n",
    "            h_dst = self.linear_dst(graph.edata['h_dst'])\n",
    "            \n",
    "            h_src = self.non_linear(h_src)\n",
    "            h_dst = self.non_linear(h_dst)\n",
    "            \n",
    "            return self.linear_final(h_src + h_dst)"
   ]
  },
  {
   "cell_type": "markdown",
   "metadata": {},
   "source": [
    "### Demonstration of synthetic data\n",
    "\n",
    "We will now try node classification on a **synthetic dataset** to demonstrate the validity of **Edge2Node**, for that, we:\n",
    "\n",
    "- Generate a random graph\n",
    "- For each node, we generate synthetic features that describe a class among a fixed number of classes\n",
    "- Generate edge features from the synthetic node features\n",
    "- Train a model to predict node classes solely based on the edge features"
   ]
  },
  {
   "cell_type": "markdown",
   "metadata": {},
   "source": [
    "#### Data generation"
   ]
  },
  {
   "cell_type": "code",
   "execution_count": 85,
   "metadata": {},
   "outputs": [],
   "source": [
    "from sklearn.datasets import make_gaussian_quantiles\n",
    "def generate_graph(n2e, n_nodes, n_ft_nodes=10, n_ft_edges=None, n_classes=8, cov=3):\n",
    "    n_ft_edges = n_ft_edges or 2*n_ft_nodes\n",
    "    \n",
    "    g = nx.barabasi_albert_graph(n_nodes, 1)\n",
    "    g = dgl.from_networkx(g)\n",
    "    \n",
    "    x, y = make_gaussian_quantiles(\n",
    "        cov=cov, n_classes=n_classes, \n",
    "        n_features=n_ft_nodes, n_samples=n_nodes\n",
    "    )\n",
    "    x, y = torch.from_numpy(x).float(), torch.from_numpy(y).long()\n",
    "    g.ndata['ft'] = x\n",
    "    g.ndata['y'] = y\n",
    "    \n",
    "    with torch.no_grad():\n",
    "        g.edata['ft'] = n2e(g, g.ndata['ft'])\n",
    "        \n",
    "    return g\n",
    "\n",
    "n_features_nodes = 8\n",
    "n_features_edges = 32\n",
    "n_classes = 10\n",
    "n2e = NodeToEdge(\n",
    "    in_features=n_features_nodes,\n",
    "    hid_features=3*n_features_nodes,\n",
    "    out_features=n_features_edges,\n",
    "    non_linear=torch.nn.ReLU(),\n",
    ")"
   ]
  },
  {
   "cell_type": "code",
   "execution_count": 86,
   "metadata": {},
   "outputs": [
    {
     "data": {
      "application/vnd.jupyter.widget-view+json": {
       "model_id": "7ec8bcd4d8db46b989d21562d9c496ab",
       "version_major": 2,
       "version_minor": 0
      },
      "text/plain": [
       "HBox(children=(FloatProgress(value=0.0, max=200.0), HTML(value='')))"
      ]
     },
     "metadata": {},
     "output_type": "display_data"
    },
    {
     "name": "stdout",
     "output_type": "stream",
     "text": [
      "\n"
     ]
    }
   ],
   "source": [
    "from torch.utils.data import random_split\n",
    "# generate 200 synthetic graphs\n",
    "dt = [\n",
    "    generate_graph(\n",
    "        n2e, \n",
    "        n_nodes=np.random.randint(100, 4000),\n",
    "        n_ft_nodes=n_features_nodes,\n",
    "        n_ft_edges=n_features_edges, \n",
    "        n_classes=n_classes\n",
    "    )  for _ in tqdm(range(200))\n",
    "]\n",
    "\n",
    "dt_train, dt_val, dt_test = random_split(\n",
    "    dt, \n",
    "    (len(dt) * np.array([0.7, 0.2, 0.1])).astype(int)\n",
    ")"
   ]
  },
  {
   "cell_type": "markdown",
   "metadata": {},
   "source": [
    "#### Baseline\n",
    "\n",
    "Before training and evaluating the **NodePredictor**, we need baselines for comparisons.\n",
    "\n",
    "- **Random**: the accuracy of such a model is 1/n_classes, for n_classes=10, we accuracy score is 0.1 . This gives us the **minimal performance** our model needs to achieve.\n",
    "- **ML Classifier** trained on the **original nodes features**. This gives us the **maximal performance** our model should be able to achieve.\n",
    "\n",
    "> The reason why the **ML Classifier** should give the **maximal performance** possible for our **GCN-based Classifier** is that the class of a node depends solely on its own features. Hence, the **nodes relationships are meaningless** for the classification. Moreover, the ML Classifier will work directly on the **non-altered nodes features**, while the GCN Classifier has to interpolate them from the edges using **Edge2Node**."
   ]
  },
  {
   "cell_type": "code",
   "execution_count": 65,
   "metadata": {},
   "outputs": [],
   "source": [
    "def evaluate(model, forward, dt, criterion):\n",
    "    losses = []\n",
    "    corr, tot = 0, 0\n",
    "    with torch.no_grad():\n",
    "        model.eval()\n",
    "        for g in tqdm(dt, desc='eval', leave=False):\n",
    "            Y_true = g.ndata['y']\n",
    "            \n",
    "            Y_pred = forward(model, g) \n",
    "            \n",
    "            loss = criterion(Y_pred, Y_true)\n",
    "            losses.append(loss.item())\n",
    "            Y_pred = Y_pred.max(dim=-1)[1]\n",
    "            \n",
    "            tot += len(Y_pred)\n",
    "            corr += (Y_true == Y_pred).sum().item()\n",
    "            \n",
    "    return np.mean(losses), corr/tot\n",
    "\n",
    "def train(model, criterion, forward, dt_train, dt_val, dt_test, nb_epochs=100, freq_show_loss=10):\n",
    "    optimizer = torch.optim.Adam(model.parameters())\n",
    "    \n",
    "    loss_val, acc_val = evaluate(model, forward, dt_val, criterion)\n",
    "    loss_test, acc_test = evaluate(model, forward, dt_test, criterion)\n",
    "    print('Before:')\n",
    "    print(f'\\tloss_val: {loss_val:.3f} / acc_val: {acc_val:.3f}')\n",
    "    print(f'\\tloss_test: {loss_test:.3f} / acc_tes: {acc_test:.3f}')\n",
    "    \n",
    "    for epoch in tqdm(range(nb_epochs), desc='epoch'):\n",
    "        losses = []\n",
    "        corr, tot = 0, 0\n",
    "        \n",
    "        model.train()\n",
    "        pb_training = tqdm(dt_train, desc='train', leave=False)\n",
    "        for idx, g in enumerate(pb_training):\n",
    "            Y_true = g.ndata['y']\n",
    "            Y_pred = forward(model, g)\n",
    "            \n",
    "            loss = criterion(Y_pred, Y_true)\n",
    "            losses.append(loss.item())\n",
    "            \n",
    "            Y_pred = Y_pred.max(dim=-1)[1]\n",
    "            tot += len(Y_pred)\n",
    "            corr += (Y_pred == Y_true).sum().item()\n",
    "            \n",
    "            if idx % freq_show_loss == 0:\n",
    "                pb_training.set_description(f\"l:{np.mean(losses):.3f}, acc:{corr/tot:.3f}\")\n",
    "            \n",
    "            # weights optimization\n",
    "            optimizer.zero_grad()\n",
    "            loss.backward()\n",
    "            optimizer.step()\n",
    "            \n",
    "        loss_val, acc_val = evaluate(model, forward, dt_val, criterion)\n",
    "        print(f\"epoch {epoch:03d}: loss_val:{loss_val:.3f}, acc: {acc_val:.3f}\")\n",
    "              \n",
    "    loss_val, acc_val = evaluate(model, forward, dt_val, criterion)\n",
    "    loss_test, acc_test = evaluate(model, forward, dt_test, criterion)\n",
    "    print('After:')\n",
    "    print(f'\\tloss_val: {loss_val:.3f} / acc_val: {acc_val:.3f}')\n",
    "    print(f'\\tloss_test: {loss_test:.3f} / acc_tes: {acc_test:.3f}')"
   ]
  },
  {
   "cell_type": "code",
   "execution_count": 87,
   "metadata": {},
   "outputs": [
    {
     "data": {
      "application/vnd.jupyter.widget-view+json": {
       "model_id": "",
       "version_major": 2,
       "version_minor": 0
      },
      "text/plain": [
       "HBox(children=(FloatProgress(value=0.0, description='eval', max=40.0, style=ProgressStyle(description_width='i…"
      ]
     },
     "metadata": {},
     "output_type": "display_data"
    },
    {
     "data": {
      "application/vnd.jupyter.widget-view+json": {
       "model_id": "",
       "version_major": 2,
       "version_minor": 0
      },
      "text/plain": [
       "HBox(children=(FloatProgress(value=0.0, description='eval', max=20.0, style=ProgressStyle(description_width='i…"
      ]
     },
     "metadata": {},
     "output_type": "display_data"
    },
    {
     "name": "stdout",
     "output_type": "stream",
     "text": [
      "Before:\n",
      "\tloss_val: 2.344 / acc_val: 0.104\n",
      "\tloss_test: 2.345 / acc_tes: 0.104\n"
     ]
    },
    {
     "data": {
      "application/vnd.jupyter.widget-view+json": {
       "model_id": "ca1fd88b97714908ab107b71dcebe874",
       "version_major": 2,
       "version_minor": 0
      },
      "text/plain": [
       "HBox(children=(FloatProgress(value=0.0, description='epoch', max=20.0, style=ProgressStyle(description_width='…"
      ]
     },
     "metadata": {},
     "output_type": "display_data"
    },
    {
     "data": {
      "application/vnd.jupyter.widget-view+json": {
       "model_id": "",
       "version_major": 2,
       "version_minor": 0
      },
      "text/plain": [
       "HBox(children=(FloatProgress(value=0.0, description='train', max=140.0, style=ProgressStyle(description_width=…"
      ]
     },
     "metadata": {},
     "output_type": "display_data"
    },
    {
     "data": {
      "application/vnd.jupyter.widget-view+json": {
       "model_id": "",
       "version_major": 2,
       "version_minor": 0
      },
      "text/plain": [
       "HBox(children=(FloatProgress(value=0.0, description='eval', max=40.0, style=ProgressStyle(description_width='i…"
      ]
     },
     "metadata": {},
     "output_type": "display_data"
    },
    {
     "name": "stdout",
     "output_type": "stream",
     "text": [
      "epoch 000: loss_val:2.205, acc: 0.127\n"
     ]
    },
    {
     "data": {
      "application/vnd.jupyter.widget-view+json": {
       "model_id": "",
       "version_major": 2,
       "version_minor": 0
      },
      "text/plain": [
       "HBox(children=(FloatProgress(value=0.0, description='train', max=140.0, style=ProgressStyle(description_width=…"
      ]
     },
     "metadata": {},
     "output_type": "display_data"
    },
    {
     "data": {
      "application/vnd.jupyter.widget-view+json": {
       "model_id": "",
       "version_major": 2,
       "version_minor": 0
      },
      "text/plain": [
       "HBox(children=(FloatProgress(value=0.0, description='eval', max=40.0, style=ProgressStyle(description_width='i…"
      ]
     },
     "metadata": {},
     "output_type": "display_data"
    },
    {
     "name": "stdout",
     "output_type": "stream",
     "text": [
      "epoch 001: loss_val:2.003, acc: 0.202\n"
     ]
    },
    {
     "data": {
      "application/vnd.jupyter.widget-view+json": {
       "model_id": "",
       "version_major": 2,
       "version_minor": 0
      },
      "text/plain": [
       "HBox(children=(FloatProgress(value=0.0, description='train', max=140.0, style=ProgressStyle(description_width=…"
      ]
     },
     "metadata": {},
     "output_type": "display_data"
    },
    {
     "data": {
      "application/vnd.jupyter.widget-view+json": {
       "model_id": "",
       "version_major": 2,
       "version_minor": 0
      },
      "text/plain": [
       "HBox(children=(FloatProgress(value=0.0, description='eval', max=40.0, style=ProgressStyle(description_width='i…"
      ]
     },
     "metadata": {},
     "output_type": "display_data"
    },
    {
     "name": "stdout",
     "output_type": "stream",
     "text": [
      "epoch 002: loss_val:1.770, acc: 0.343\n"
     ]
    },
    {
     "data": {
      "application/vnd.jupyter.widget-view+json": {
       "model_id": "",
       "version_major": 2,
       "version_minor": 0
      },
      "text/plain": [
       "HBox(children=(FloatProgress(value=0.0, description='train', max=140.0, style=ProgressStyle(description_width=…"
      ]
     },
     "metadata": {},
     "output_type": "display_data"
    },
    {
     "data": {
      "application/vnd.jupyter.widget-view+json": {
       "model_id": "",
       "version_major": 2,
       "version_minor": 0
      },
      "text/plain": [
       "HBox(children=(FloatProgress(value=0.0, description='eval', max=40.0, style=ProgressStyle(description_width='i…"
      ]
     },
     "metadata": {},
     "output_type": "display_data"
    },
    {
     "name": "stdout",
     "output_type": "stream",
     "text": [
      "epoch 003: loss_val:1.554, acc: 0.424\n"
     ]
    },
    {
     "data": {
      "application/vnd.jupyter.widget-view+json": {
       "model_id": "",
       "version_major": 2,
       "version_minor": 0
      },
      "text/plain": [
       "HBox(children=(FloatProgress(value=0.0, description='train', max=140.0, style=ProgressStyle(description_width=…"
      ]
     },
     "metadata": {},
     "output_type": "display_data"
    },
    {
     "data": {
      "application/vnd.jupyter.widget-view+json": {
       "model_id": "",
       "version_major": 2,
       "version_minor": 0
      },
      "text/plain": [
       "HBox(children=(FloatProgress(value=0.0, description='eval', max=40.0, style=ProgressStyle(description_width='i…"
      ]
     },
     "metadata": {},
     "output_type": "display_data"
    },
    {
     "name": "stdout",
     "output_type": "stream",
     "text": [
      "epoch 004: loss_val:1.391, acc: 0.470\n"
     ]
    },
    {
     "data": {
      "application/vnd.jupyter.widget-view+json": {
       "model_id": "",
       "version_major": 2,
       "version_minor": 0
      },
      "text/plain": [
       "HBox(children=(FloatProgress(value=0.0, description='train', max=140.0, style=ProgressStyle(description_width=…"
      ]
     },
     "metadata": {},
     "output_type": "display_data"
    },
    {
     "data": {
      "application/vnd.jupyter.widget-view+json": {
       "model_id": "",
       "version_major": 2,
       "version_minor": 0
      },
      "text/plain": [
       "HBox(children=(FloatProgress(value=0.0, description='eval', max=40.0, style=ProgressStyle(description_width='i…"
      ]
     },
     "metadata": {},
     "output_type": "display_data"
    },
    {
     "name": "stdout",
     "output_type": "stream",
     "text": [
      "epoch 005: loss_val:1.279, acc: 0.501\n"
     ]
    },
    {
     "data": {
      "application/vnd.jupyter.widget-view+json": {
       "model_id": "",
       "version_major": 2,
       "version_minor": 0
      },
      "text/plain": [
       "HBox(children=(FloatProgress(value=0.0, description='train', max=140.0, style=ProgressStyle(description_width=…"
      ]
     },
     "metadata": {},
     "output_type": "display_data"
    },
    {
     "data": {
      "application/vnd.jupyter.widget-view+json": {
       "model_id": "",
       "version_major": 2,
       "version_minor": 0
      },
      "text/plain": [
       "HBox(children=(FloatProgress(value=0.0, description='eval', max=40.0, style=ProgressStyle(description_width='i…"
      ]
     },
     "metadata": {},
     "output_type": "display_data"
    },
    {
     "name": "stdout",
     "output_type": "stream",
     "text": [
      "epoch 006: loss_val:1.202, acc: 0.519\n"
     ]
    },
    {
     "data": {
      "application/vnd.jupyter.widget-view+json": {
       "model_id": "",
       "version_major": 2,
       "version_minor": 0
      },
      "text/plain": [
       "HBox(children=(FloatProgress(value=0.0, description='train', max=140.0, style=ProgressStyle(description_width=…"
      ]
     },
     "metadata": {},
     "output_type": "display_data"
    },
    {
     "data": {
      "application/vnd.jupyter.widget-view+json": {
       "model_id": "",
       "version_major": 2,
       "version_minor": 0
      },
      "text/plain": [
       "HBox(children=(FloatProgress(value=0.0, description='eval', max=40.0, style=ProgressStyle(description_width='i…"
      ]
     },
     "metadata": {},
     "output_type": "display_data"
    },
    {
     "name": "stdout",
     "output_type": "stream",
     "text": [
      "epoch 007: loss_val:1.149, acc: 0.530\n"
     ]
    },
    {
     "data": {
      "application/vnd.jupyter.widget-view+json": {
       "model_id": "",
       "version_major": 2,
       "version_minor": 0
      },
      "text/plain": [
       "HBox(children=(FloatProgress(value=0.0, description='train', max=140.0, style=ProgressStyle(description_width=…"
      ]
     },
     "metadata": {},
     "output_type": "display_data"
    },
    {
     "data": {
      "application/vnd.jupyter.widget-view+json": {
       "model_id": "",
       "version_major": 2,
       "version_minor": 0
      },
      "text/plain": [
       "HBox(children=(FloatProgress(value=0.0, description='eval', max=40.0, style=ProgressStyle(description_width='i…"
      ]
     },
     "metadata": {},
     "output_type": "display_data"
    },
    {
     "name": "stdout",
     "output_type": "stream",
     "text": [
      "epoch 008: loss_val:1.110, acc: 0.537\n"
     ]
    },
    {
     "data": {
      "application/vnd.jupyter.widget-view+json": {
       "model_id": "",
       "version_major": 2,
       "version_minor": 0
      },
      "text/plain": [
       "HBox(children=(FloatProgress(value=0.0, description='train', max=140.0, style=ProgressStyle(description_width=…"
      ]
     },
     "metadata": {},
     "output_type": "display_data"
    },
    {
     "data": {
      "application/vnd.jupyter.widget-view+json": {
       "model_id": "",
       "version_major": 2,
       "version_minor": 0
      },
      "text/plain": [
       "HBox(children=(FloatProgress(value=0.0, description='eval', max=40.0, style=ProgressStyle(description_width='i…"
      ]
     },
     "metadata": {},
     "output_type": "display_data"
    },
    {
     "name": "stdout",
     "output_type": "stream",
     "text": [
      "epoch 009: loss_val:1.081, acc: 0.541\n"
     ]
    },
    {
     "data": {
      "application/vnd.jupyter.widget-view+json": {
       "model_id": "",
       "version_major": 2,
       "version_minor": 0
      },
      "text/plain": [
       "HBox(children=(FloatProgress(value=0.0, description='train', max=140.0, style=ProgressStyle(description_width=…"
      ]
     },
     "metadata": {},
     "output_type": "display_data"
    },
    {
     "data": {
      "application/vnd.jupyter.widget-view+json": {
       "model_id": "",
       "version_major": 2,
       "version_minor": 0
      },
      "text/plain": [
       "HBox(children=(FloatProgress(value=0.0, description='eval', max=40.0, style=ProgressStyle(description_width='i…"
      ]
     },
     "metadata": {},
     "output_type": "display_data"
    },
    {
     "name": "stdout",
     "output_type": "stream",
     "text": [
      "epoch 010: loss_val:1.059, acc: 0.547\n"
     ]
    },
    {
     "data": {
      "application/vnd.jupyter.widget-view+json": {
       "model_id": "",
       "version_major": 2,
       "version_minor": 0
      },
      "text/plain": [
       "HBox(children=(FloatProgress(value=0.0, description='train', max=140.0, style=ProgressStyle(description_width=…"
      ]
     },
     "metadata": {},
     "output_type": "display_data"
    },
    {
     "data": {
      "application/vnd.jupyter.widget-view+json": {
       "model_id": "",
       "version_major": 2,
       "version_minor": 0
      },
      "text/plain": [
       "HBox(children=(FloatProgress(value=0.0, description='eval', max=40.0, style=ProgressStyle(description_width='i…"
      ]
     },
     "metadata": {},
     "output_type": "display_data"
    },
    {
     "name": "stdout",
     "output_type": "stream",
     "text": [
      "epoch 011: loss_val:1.040, acc: 0.551\n"
     ]
    },
    {
     "data": {
      "application/vnd.jupyter.widget-view+json": {
       "model_id": "",
       "version_major": 2,
       "version_minor": 0
      },
      "text/plain": [
       "HBox(children=(FloatProgress(value=0.0, description='train', max=140.0, style=ProgressStyle(description_width=…"
      ]
     },
     "metadata": {},
     "output_type": "display_data"
    },
    {
     "data": {
      "application/vnd.jupyter.widget-view+json": {
       "model_id": "",
       "version_major": 2,
       "version_minor": 0
      },
      "text/plain": [
       "HBox(children=(FloatProgress(value=0.0, description='eval', max=40.0, style=ProgressStyle(description_width='i…"
      ]
     },
     "metadata": {},
     "output_type": "display_data"
    },
    {
     "name": "stdout",
     "output_type": "stream",
     "text": [
      "epoch 012: loss_val:1.026, acc: 0.554\n"
     ]
    },
    {
     "data": {
      "application/vnd.jupyter.widget-view+json": {
       "model_id": "",
       "version_major": 2,
       "version_minor": 0
      },
      "text/plain": [
       "HBox(children=(FloatProgress(value=0.0, description='train', max=140.0, style=ProgressStyle(description_width=…"
      ]
     },
     "metadata": {},
     "output_type": "display_data"
    },
    {
     "data": {
      "application/vnd.jupyter.widget-view+json": {
       "model_id": "",
       "version_major": 2,
       "version_minor": 0
      },
      "text/plain": [
       "HBox(children=(FloatProgress(value=0.0, description='eval', max=40.0, style=ProgressStyle(description_width='i…"
      ]
     },
     "metadata": {},
     "output_type": "display_data"
    },
    {
     "name": "stdout",
     "output_type": "stream",
     "text": [
      "epoch 013: loss_val:1.013, acc: 0.558\n"
     ]
    },
    {
     "data": {
      "application/vnd.jupyter.widget-view+json": {
       "model_id": "",
       "version_major": 2,
       "version_minor": 0
      },
      "text/plain": [
       "HBox(children=(FloatProgress(value=0.0, description='train', max=140.0, style=ProgressStyle(description_width=…"
      ]
     },
     "metadata": {},
     "output_type": "display_data"
    },
    {
     "data": {
      "application/vnd.jupyter.widget-view+json": {
       "model_id": "",
       "version_major": 2,
       "version_minor": 0
      },
      "text/plain": [
       "HBox(children=(FloatProgress(value=0.0, description='eval', max=40.0, style=ProgressStyle(description_width='i…"
      ]
     },
     "metadata": {},
     "output_type": "display_data"
    },
    {
     "name": "stdout",
     "output_type": "stream",
     "text": [
      "epoch 014: loss_val:1.002, acc: 0.561\n"
     ]
    },
    {
     "data": {
      "application/vnd.jupyter.widget-view+json": {
       "model_id": "",
       "version_major": 2,
       "version_minor": 0
      },
      "text/plain": [
       "HBox(children=(FloatProgress(value=0.0, description='train', max=140.0, style=ProgressStyle(description_width=…"
      ]
     },
     "metadata": {},
     "output_type": "display_data"
    },
    {
     "data": {
      "application/vnd.jupyter.widget-view+json": {
       "model_id": "",
       "version_major": 2,
       "version_minor": 0
      },
      "text/plain": [
       "HBox(children=(FloatProgress(value=0.0, description='eval', max=40.0, style=ProgressStyle(description_width='i…"
      ]
     },
     "metadata": {},
     "output_type": "display_data"
    },
    {
     "name": "stdout",
     "output_type": "stream",
     "text": [
      "epoch 015: loss_val:0.993, acc: 0.564\n"
     ]
    },
    {
     "data": {
      "application/vnd.jupyter.widget-view+json": {
       "model_id": "",
       "version_major": 2,
       "version_minor": 0
      },
      "text/plain": [
       "HBox(children=(FloatProgress(value=0.0, description='train', max=140.0, style=ProgressStyle(description_width=…"
      ]
     },
     "metadata": {},
     "output_type": "display_data"
    },
    {
     "data": {
      "application/vnd.jupyter.widget-view+json": {
       "model_id": "",
       "version_major": 2,
       "version_minor": 0
      },
      "text/plain": [
       "HBox(children=(FloatProgress(value=0.0, description='eval', max=40.0, style=ProgressStyle(description_width='i…"
      ]
     },
     "metadata": {},
     "output_type": "display_data"
    },
    {
     "name": "stdout",
     "output_type": "stream",
     "text": [
      "epoch 016: loss_val:0.984, acc: 0.566\n"
     ]
    },
    {
     "data": {
      "application/vnd.jupyter.widget-view+json": {
       "model_id": "",
       "version_major": 2,
       "version_minor": 0
      },
      "text/plain": [
       "HBox(children=(FloatProgress(value=0.0, description='train', max=140.0, style=ProgressStyle(description_width=…"
      ]
     },
     "metadata": {},
     "output_type": "display_data"
    },
    {
     "data": {
      "application/vnd.jupyter.widget-view+json": {
       "model_id": "",
       "version_major": 2,
       "version_minor": 0
      },
      "text/plain": [
       "HBox(children=(FloatProgress(value=0.0, description='eval', max=40.0, style=ProgressStyle(description_width='i…"
      ]
     },
     "metadata": {},
     "output_type": "display_data"
    },
    {
     "name": "stdout",
     "output_type": "stream",
     "text": [
      "epoch 017: loss_val:0.975, acc: 0.569\n"
     ]
    },
    {
     "data": {
      "application/vnd.jupyter.widget-view+json": {
       "model_id": "",
       "version_major": 2,
       "version_minor": 0
      },
      "text/plain": [
       "HBox(children=(FloatProgress(value=0.0, description='train', max=140.0, style=ProgressStyle(description_width=…"
      ]
     },
     "metadata": {},
     "output_type": "display_data"
    },
    {
     "data": {
      "application/vnd.jupyter.widget-view+json": {
       "model_id": "",
       "version_major": 2,
       "version_minor": 0
      },
      "text/plain": [
       "HBox(children=(FloatProgress(value=0.0, description='eval', max=40.0, style=ProgressStyle(description_width='i…"
      ]
     },
     "metadata": {},
     "output_type": "display_data"
    },
    {
     "name": "stdout",
     "output_type": "stream",
     "text": [
      "epoch 018: loss_val:0.967, acc: 0.573\n"
     ]
    },
    {
     "data": {
      "application/vnd.jupyter.widget-view+json": {
       "model_id": "",
       "version_major": 2,
       "version_minor": 0
      },
      "text/plain": [
       "HBox(children=(FloatProgress(value=0.0, description='train', max=140.0, style=ProgressStyle(description_width=…"
      ]
     },
     "metadata": {},
     "output_type": "display_data"
    },
    {
     "data": {
      "application/vnd.jupyter.widget-view+json": {
       "model_id": "",
       "version_major": 2,
       "version_minor": 0
      },
      "text/plain": [
       "HBox(children=(FloatProgress(value=0.0, description='eval', max=40.0, style=ProgressStyle(description_width='i…"
      ]
     },
     "metadata": {},
     "output_type": "display_data"
    },
    {
     "name": "stdout",
     "output_type": "stream",
     "text": [
      "epoch 019: loss_val:0.957, acc: 0.577\n",
      "\n"
     ]
    },
    {
     "data": {
      "application/vnd.jupyter.widget-view+json": {
       "model_id": "",
       "version_major": 2,
       "version_minor": 0
      },
      "text/plain": [
       "HBox(children=(FloatProgress(value=0.0, description='eval', max=40.0, style=ProgressStyle(description_width='i…"
      ]
     },
     "metadata": {},
     "output_type": "display_data"
    },
    {
     "data": {
      "application/vnd.jupyter.widget-view+json": {
       "model_id": "",
       "version_major": 2,
       "version_minor": 0
      },
      "text/plain": [
       "HBox(children=(FloatProgress(value=0.0, description='eval', max=20.0, style=ProgressStyle(description_width='i…"
      ]
     },
     "metadata": {},
     "output_type": "display_data"
    },
    {
     "name": "stdout",
     "output_type": "stream",
     "text": [
      "After:\n",
      "\tloss_val: 0.957 / acc_val: 0.577\n",
      "\tloss_test: 0.962 / acc_tes: 0.576\n"
     ]
    }
   ],
   "source": [
    "model = torch.nn.Sequential(\n",
    "    torch.nn.Linear(n_features_nodes, n_features_nodes * 2),\n",
    "    torch.nn.ReLU(),\n",
    "    torch.nn.Linear(n_features_nodes * 2, n_features_nodes * 2),\n",
    "    torch.nn.ReLU(),\n",
    "    torch.nn.Linear(n_features_nodes * 2, n_classes),\n",
    ")\n",
    "\n",
    "criterion = torch.nn.CrossEntropyLoss()\n",
    "train(model, criterion, lambda f,g: f(g.ndata['ft']), dt_train, dt_val, dt_test, nb_epochs=20)"
   ]
  },
  {
   "cell_type": "markdown",
   "metadata": {},
   "source": [
    "#### GCN Model definition"
   ]
  },
  {
   "cell_type": "code",
   "execution_count": 66,
   "metadata": {},
   "outputs": [],
   "source": [
    "import torch.nn.functional as F\n",
    "\n",
    "# Simple SAGE model for GCN depth 2\n",
    "class SAGE(torch.nn.Module):\n",
    "    def __init__(self, in_features, hid_features, out_features):\n",
    "        super().__init__()\n",
    "        self.conv1 = dgl.nn.SAGEConv(\n",
    "            in_feats=in_features, \n",
    "            out_feats=hid_features,\n",
    "            aggregator_type='mean'\n",
    "        )\n",
    "        self.conv2 = dgl.nn.SAGEConv(\n",
    "            in_feats=hid_features, \n",
    "            out_feats=out_features,\n",
    "            aggregator_type='mean'\n",
    "        )\n",
    "\n",
    "    def forward(self, graph, h):    \n",
    "        h = F.relu(self.conv1(graph, h))\n",
    "        h = self.conv2(graph, h)\n",
    "        return h\n",
    "    \n",
    "    \n",
    "# Node class prediction\n",
    "class NodePredictor(torch.nn.Module):\n",
    "    def __init__(self, n_classes, in_features_e, out_features_e=16, hid_features_n=32, out_features_n=16):\n",
    "        super().__init__()\n",
    "        \n",
    "        self.e2n = EdgeToNode(\n",
    "            in_features=in_features_e, \n",
    "            hid_features=hid_features_n, \n",
    "            out_features=out_features_e, \n",
    "            non_linear=torch.nn.ReLU()\n",
    "        )\n",
    "        self.sage = SAGE(out_features_e, hid_features_n, out_features_n)\n",
    "        self.n2y = torch.nn.Linear(out_features_n, n_classes)\n",
    "        \n",
    "    def forward(self, graph, h):    \n",
    "        h = self.e2n(graph, h)\n",
    "        h = torch.tanh(h)\n",
    "        h = self.sage(graph, h)\n",
    "        h = torch.relu(h)\n",
    "        \n",
    "        return self.n2y(h)"
   ]
  },
  {
   "cell_type": "code",
   "execution_count": 91,
   "metadata": {},
   "outputs": [
    {
     "data": {
      "application/vnd.jupyter.widget-view+json": {
       "model_id": "",
       "version_major": 2,
       "version_minor": 0
      },
      "text/plain": [
       "HBox(children=(FloatProgress(value=0.0, description='eval', max=20.0, style=ProgressStyle(description_width='i…"
      ]
     },
     "metadata": {},
     "output_type": "display_data"
    },
    {
     "name": "stdout",
     "output_type": "stream",
     "text": [
      "Un-trained model precision: 0.105\n"
     ]
    },
    {
     "data": {
      "application/vnd.jupyter.widget-view+json": {
       "model_id": "",
       "version_major": 2,
       "version_minor": 0
      },
      "text/plain": [
       "HBox(children=(FloatProgress(value=0.0, description='eval', max=40.0, style=ProgressStyle(description_width='i…"
      ]
     },
     "metadata": {},
     "output_type": "display_data"
    },
    {
     "data": {
      "application/vnd.jupyter.widget-view+json": {
       "model_id": "",
       "version_major": 2,
       "version_minor": 0
      },
      "text/plain": [
       "HBox(children=(FloatProgress(value=0.0, description='eval', max=20.0, style=ProgressStyle(description_width='i…"
      ]
     },
     "metadata": {},
     "output_type": "display_data"
    },
    {
     "name": "stdout",
     "output_type": "stream",
     "text": [
      "Before:\n",
      "\tloss_val: 2.420 / acc_val: 0.103\n",
      "\tloss_test: 2.419 / acc_tes: 0.105\n"
     ]
    },
    {
     "data": {
      "application/vnd.jupyter.widget-view+json": {
       "model_id": "a7ab0520fcd34f65ab00c987dc7980df",
       "version_major": 2,
       "version_minor": 0
      },
      "text/plain": [
       "HBox(children=(FloatProgress(value=0.0, description='epoch', max=20.0, style=ProgressStyle(description_width='…"
      ]
     },
     "metadata": {},
     "output_type": "display_data"
    },
    {
     "data": {
      "application/vnd.jupyter.widget-view+json": {
       "model_id": "",
       "version_major": 2,
       "version_minor": 0
      },
      "text/plain": [
       "HBox(children=(FloatProgress(value=0.0, description='train', max=140.0, style=ProgressStyle(description_width=…"
      ]
     },
     "metadata": {},
     "output_type": "display_data"
    },
    {
     "data": {
      "application/vnd.jupyter.widget-view+json": {
       "model_id": "",
       "version_major": 2,
       "version_minor": 0
      },
      "text/plain": [
       "HBox(children=(FloatProgress(value=0.0, description='eval', max=40.0, style=ProgressStyle(description_width='i…"
      ]
     },
     "metadata": {},
     "output_type": "display_data"
    },
    {
     "name": "stdout",
     "output_type": "stream",
     "text": [
      "epoch 000: loss_val:2.128, acc: 0.193\n"
     ]
    },
    {
     "data": {
      "application/vnd.jupyter.widget-view+json": {
       "model_id": "",
       "version_major": 2,
       "version_minor": 0
      },
      "text/plain": [
       "HBox(children=(FloatProgress(value=0.0, description='train', max=140.0, style=ProgressStyle(description_width=…"
      ]
     },
     "metadata": {},
     "output_type": "display_data"
    },
    {
     "data": {
      "application/vnd.jupyter.widget-view+json": {
       "model_id": "",
       "version_major": 2,
       "version_minor": 0
      },
      "text/plain": [
       "HBox(children=(FloatProgress(value=0.0, description='eval', max=40.0, style=ProgressStyle(description_width='i…"
      ]
     },
     "metadata": {},
     "output_type": "display_data"
    },
    {
     "name": "stdout",
     "output_type": "stream",
     "text": [
      "epoch 001: loss_val:1.601, acc: 0.343\n"
     ]
    },
    {
     "data": {
      "application/vnd.jupyter.widget-view+json": {
       "model_id": "",
       "version_major": 2,
       "version_minor": 0
      },
      "text/plain": [
       "HBox(children=(FloatProgress(value=0.0, description='train', max=140.0, style=ProgressStyle(description_width=…"
      ]
     },
     "metadata": {},
     "output_type": "display_data"
    },
    {
     "data": {
      "application/vnd.jupyter.widget-view+json": {
       "model_id": "",
       "version_major": 2,
       "version_minor": 0
      },
      "text/plain": [
       "HBox(children=(FloatProgress(value=0.0, description='eval', max=40.0, style=ProgressStyle(description_width='i…"
      ]
     },
     "metadata": {},
     "output_type": "display_data"
    },
    {
     "name": "stdout",
     "output_type": "stream",
     "text": [
      "epoch 002: loss_val:1.489, acc: 0.381\n"
     ]
    },
    {
     "data": {
      "application/vnd.jupyter.widget-view+json": {
       "model_id": "",
       "version_major": 2,
       "version_minor": 0
      },
      "text/plain": [
       "HBox(children=(FloatProgress(value=0.0, description='train', max=140.0, style=ProgressStyle(description_width=…"
      ]
     },
     "metadata": {},
     "output_type": "display_data"
    },
    {
     "data": {
      "application/vnd.jupyter.widget-view+json": {
       "model_id": "",
       "version_major": 2,
       "version_minor": 0
      },
      "text/plain": [
       "HBox(children=(FloatProgress(value=0.0, description='eval', max=40.0, style=ProgressStyle(description_width='i…"
      ]
     },
     "metadata": {},
     "output_type": "display_data"
    },
    {
     "name": "stdout",
     "output_type": "stream",
     "text": [
      "epoch 003: loss_val:1.415, acc: 0.408\n"
     ]
    },
    {
     "data": {
      "application/vnd.jupyter.widget-view+json": {
       "model_id": "",
       "version_major": 2,
       "version_minor": 0
      },
      "text/plain": [
       "HBox(children=(FloatProgress(value=0.0, description='train', max=140.0, style=ProgressStyle(description_width=…"
      ]
     },
     "metadata": {},
     "output_type": "display_data"
    },
    {
     "data": {
      "application/vnd.jupyter.widget-view+json": {
       "model_id": "",
       "version_major": 2,
       "version_minor": 0
      },
      "text/plain": [
       "HBox(children=(FloatProgress(value=0.0, description='eval', max=40.0, style=ProgressStyle(description_width='i…"
      ]
     },
     "metadata": {},
     "output_type": "display_data"
    },
    {
     "name": "stdout",
     "output_type": "stream",
     "text": [
      "epoch 004: loss_val:1.366, acc: 0.422\n"
     ]
    },
    {
     "data": {
      "application/vnd.jupyter.widget-view+json": {
       "model_id": "",
       "version_major": 2,
       "version_minor": 0
      },
      "text/plain": [
       "HBox(children=(FloatProgress(value=0.0, description='train', max=140.0, style=ProgressStyle(description_width=…"
      ]
     },
     "metadata": {},
     "output_type": "display_data"
    },
    {
     "data": {
      "application/vnd.jupyter.widget-view+json": {
       "model_id": "",
       "version_major": 2,
       "version_minor": 0
      },
      "text/plain": [
       "HBox(children=(FloatProgress(value=0.0, description='eval', max=40.0, style=ProgressStyle(description_width='i…"
      ]
     },
     "metadata": {},
     "output_type": "display_data"
    },
    {
     "name": "stdout",
     "output_type": "stream",
     "text": [
      "epoch 005: loss_val:1.331, acc: 0.435\n"
     ]
    },
    {
     "data": {
      "application/vnd.jupyter.widget-view+json": {
       "model_id": "",
       "version_major": 2,
       "version_minor": 0
      },
      "text/plain": [
       "HBox(children=(FloatProgress(value=0.0, description='train', max=140.0, style=ProgressStyle(description_width=…"
      ]
     },
     "metadata": {},
     "output_type": "display_data"
    },
    {
     "data": {
      "application/vnd.jupyter.widget-view+json": {
       "model_id": "",
       "version_major": 2,
       "version_minor": 0
      },
      "text/plain": [
       "HBox(children=(FloatProgress(value=0.0, description='eval', max=40.0, style=ProgressStyle(description_width='i…"
      ]
     },
     "metadata": {},
     "output_type": "display_data"
    },
    {
     "name": "stdout",
     "output_type": "stream",
     "text": [
      "epoch 006: loss_val:1.307, acc: 0.443\n"
     ]
    },
    {
     "data": {
      "application/vnd.jupyter.widget-view+json": {
       "model_id": "",
       "version_major": 2,
       "version_minor": 0
      },
      "text/plain": [
       "HBox(children=(FloatProgress(value=0.0, description='train', max=140.0, style=ProgressStyle(description_width=…"
      ]
     },
     "metadata": {},
     "output_type": "display_data"
    },
    {
     "data": {
      "application/vnd.jupyter.widget-view+json": {
       "model_id": "",
       "version_major": 2,
       "version_minor": 0
      },
      "text/plain": [
       "HBox(children=(FloatProgress(value=0.0, description='eval', max=40.0, style=ProgressStyle(description_width='i…"
      ]
     },
     "metadata": {},
     "output_type": "display_data"
    },
    {
     "name": "stdout",
     "output_type": "stream",
     "text": [
      "epoch 007: loss_val:1.297, acc: 0.448\n"
     ]
    },
    {
     "data": {
      "application/vnd.jupyter.widget-view+json": {
       "model_id": "",
       "version_major": 2,
       "version_minor": 0
      },
      "text/plain": [
       "HBox(children=(FloatProgress(value=0.0, description='train', max=140.0, style=ProgressStyle(description_width=…"
      ]
     },
     "metadata": {},
     "output_type": "display_data"
    },
    {
     "data": {
      "application/vnd.jupyter.widget-view+json": {
       "model_id": "",
       "version_major": 2,
       "version_minor": 0
      },
      "text/plain": [
       "HBox(children=(FloatProgress(value=0.0, description='eval', max=40.0, style=ProgressStyle(description_width='i…"
      ]
     },
     "metadata": {},
     "output_type": "display_data"
    },
    {
     "name": "stdout",
     "output_type": "stream",
     "text": [
      "epoch 008: loss_val:1.305, acc: 0.446\n"
     ]
    },
    {
     "data": {
      "application/vnd.jupyter.widget-view+json": {
       "model_id": "",
       "version_major": 2,
       "version_minor": 0
      },
      "text/plain": [
       "HBox(children=(FloatProgress(value=0.0, description='train', max=140.0, style=ProgressStyle(description_width=…"
      ]
     },
     "metadata": {},
     "output_type": "display_data"
    },
    {
     "data": {
      "application/vnd.jupyter.widget-view+json": {
       "model_id": "",
       "version_major": 2,
       "version_minor": 0
      },
      "text/plain": [
       "HBox(children=(FloatProgress(value=0.0, description='eval', max=40.0, style=ProgressStyle(description_width='i…"
      ]
     },
     "metadata": {},
     "output_type": "display_data"
    },
    {
     "name": "stdout",
     "output_type": "stream",
     "text": [
      "epoch 009: loss_val:1.292, acc: 0.451\n"
     ]
    },
    {
     "data": {
      "application/vnd.jupyter.widget-view+json": {
       "model_id": "",
       "version_major": 2,
       "version_minor": 0
      },
      "text/plain": [
       "HBox(children=(FloatProgress(value=0.0, description='train', max=140.0, style=ProgressStyle(description_width=…"
      ]
     },
     "metadata": {},
     "output_type": "display_data"
    },
    {
     "data": {
      "application/vnd.jupyter.widget-view+json": {
       "model_id": "",
       "version_major": 2,
       "version_minor": 0
      },
      "text/plain": [
       "HBox(children=(FloatProgress(value=0.0, description='eval', max=40.0, style=ProgressStyle(description_width='i…"
      ]
     },
     "metadata": {},
     "output_type": "display_data"
    },
    {
     "name": "stdout",
     "output_type": "stream",
     "text": [
      "epoch 010: loss_val:1.259, acc: 0.462\n"
     ]
    },
    {
     "data": {
      "application/vnd.jupyter.widget-view+json": {
       "model_id": "",
       "version_major": 2,
       "version_minor": 0
      },
      "text/plain": [
       "HBox(children=(FloatProgress(value=0.0, description='train', max=140.0, style=ProgressStyle(description_width=…"
      ]
     },
     "metadata": {},
     "output_type": "display_data"
    },
    {
     "data": {
      "application/vnd.jupyter.widget-view+json": {
       "model_id": "",
       "version_major": 2,
       "version_minor": 0
      },
      "text/plain": [
       "HBox(children=(FloatProgress(value=0.0, description='eval', max=40.0, style=ProgressStyle(description_width='i…"
      ]
     },
     "metadata": {},
     "output_type": "display_data"
    },
    {
     "name": "stdout",
     "output_type": "stream",
     "text": [
      "epoch 011: loss_val:1.245, acc: 0.466\n"
     ]
    },
    {
     "data": {
      "application/vnd.jupyter.widget-view+json": {
       "model_id": "",
       "version_major": 2,
       "version_minor": 0
      },
      "text/plain": [
       "HBox(children=(FloatProgress(value=0.0, description='train', max=140.0, style=ProgressStyle(description_width=…"
      ]
     },
     "metadata": {},
     "output_type": "display_data"
    },
    {
     "data": {
      "application/vnd.jupyter.widget-view+json": {
       "model_id": "",
       "version_major": 2,
       "version_minor": 0
      },
      "text/plain": [
       "HBox(children=(FloatProgress(value=0.0, description='eval', max=40.0, style=ProgressStyle(description_width='i…"
      ]
     },
     "metadata": {},
     "output_type": "display_data"
    },
    {
     "name": "stdout",
     "output_type": "stream",
     "text": [
      "epoch 012: loss_val:1.239, acc: 0.468\n"
     ]
    },
    {
     "data": {
      "application/vnd.jupyter.widget-view+json": {
       "model_id": "",
       "version_major": 2,
       "version_minor": 0
      },
      "text/plain": [
       "HBox(children=(FloatProgress(value=0.0, description='train', max=140.0, style=ProgressStyle(description_width=…"
      ]
     },
     "metadata": {},
     "output_type": "display_data"
    },
    {
     "data": {
      "application/vnd.jupyter.widget-view+json": {
       "model_id": "",
       "version_major": 2,
       "version_minor": 0
      },
      "text/plain": [
       "HBox(children=(FloatProgress(value=0.0, description='eval', max=40.0, style=ProgressStyle(description_width='i…"
      ]
     },
     "metadata": {},
     "output_type": "display_data"
    },
    {
     "name": "stdout",
     "output_type": "stream",
     "text": [
      "epoch 013: loss_val:1.236, acc: 0.471\n"
     ]
    },
    {
     "data": {
      "application/vnd.jupyter.widget-view+json": {
       "model_id": "",
       "version_major": 2,
       "version_minor": 0
      },
      "text/plain": [
       "HBox(children=(FloatProgress(value=0.0, description='train', max=140.0, style=ProgressStyle(description_width=…"
      ]
     },
     "metadata": {},
     "output_type": "display_data"
    },
    {
     "data": {
      "application/vnd.jupyter.widget-view+json": {
       "model_id": "",
       "version_major": 2,
       "version_minor": 0
      },
      "text/plain": [
       "HBox(children=(FloatProgress(value=0.0, description='eval', max=40.0, style=ProgressStyle(description_width='i…"
      ]
     },
     "metadata": {},
     "output_type": "display_data"
    },
    {
     "name": "stdout",
     "output_type": "stream",
     "text": [
      "epoch 014: loss_val:1.227, acc: 0.471\n"
     ]
    },
    {
     "data": {
      "application/vnd.jupyter.widget-view+json": {
       "model_id": "",
       "version_major": 2,
       "version_minor": 0
      },
      "text/plain": [
       "HBox(children=(FloatProgress(value=0.0, description='train', max=140.0, style=ProgressStyle(description_width=…"
      ]
     },
     "metadata": {},
     "output_type": "display_data"
    },
    {
     "data": {
      "application/vnd.jupyter.widget-view+json": {
       "model_id": "",
       "version_major": 2,
       "version_minor": 0
      },
      "text/plain": [
       "HBox(children=(FloatProgress(value=0.0, description='eval', max=40.0, style=ProgressStyle(description_width='i…"
      ]
     },
     "metadata": {},
     "output_type": "display_data"
    },
    {
     "name": "stdout",
     "output_type": "stream",
     "text": [
      "epoch 015: loss_val:1.220, acc: 0.474\n"
     ]
    },
    {
     "data": {
      "application/vnd.jupyter.widget-view+json": {
       "model_id": "",
       "version_major": 2,
       "version_minor": 0
      },
      "text/plain": [
       "HBox(children=(FloatProgress(value=0.0, description='train', max=140.0, style=ProgressStyle(description_width=…"
      ]
     },
     "metadata": {},
     "output_type": "display_data"
    },
    {
     "data": {
      "application/vnd.jupyter.widget-view+json": {
       "model_id": "",
       "version_major": 2,
       "version_minor": 0
      },
      "text/plain": [
       "HBox(children=(FloatProgress(value=0.0, description='eval', max=40.0, style=ProgressStyle(description_width='i…"
      ]
     },
     "metadata": {},
     "output_type": "display_data"
    },
    {
     "name": "stdout",
     "output_type": "stream",
     "text": [
      "epoch 016: loss_val:1.212, acc: 0.476\n"
     ]
    },
    {
     "data": {
      "application/vnd.jupyter.widget-view+json": {
       "model_id": "",
       "version_major": 2,
       "version_minor": 0
      },
      "text/plain": [
       "HBox(children=(FloatProgress(value=0.0, description='train', max=140.0, style=ProgressStyle(description_width=…"
      ]
     },
     "metadata": {},
     "output_type": "display_data"
    },
    {
     "data": {
      "application/vnd.jupyter.widget-view+json": {
       "model_id": "",
       "version_major": 2,
       "version_minor": 0
      },
      "text/plain": [
       "HBox(children=(FloatProgress(value=0.0, description='eval', max=40.0, style=ProgressStyle(description_width='i…"
      ]
     },
     "metadata": {},
     "output_type": "display_data"
    },
    {
     "name": "stdout",
     "output_type": "stream",
     "text": [
      "epoch 017: loss_val:1.216, acc: 0.475\n"
     ]
    },
    {
     "data": {
      "application/vnd.jupyter.widget-view+json": {
       "model_id": "",
       "version_major": 2,
       "version_minor": 0
      },
      "text/plain": [
       "HBox(children=(FloatProgress(value=0.0, description='train', max=140.0, style=ProgressStyle(description_width=…"
      ]
     },
     "metadata": {},
     "output_type": "display_data"
    },
    {
     "data": {
      "application/vnd.jupyter.widget-view+json": {
       "model_id": "",
       "version_major": 2,
       "version_minor": 0
      },
      "text/plain": [
       "HBox(children=(FloatProgress(value=0.0, description='eval', max=40.0, style=ProgressStyle(description_width='i…"
      ]
     },
     "metadata": {},
     "output_type": "display_data"
    },
    {
     "name": "stdout",
     "output_type": "stream",
     "text": [
      "epoch 018: loss_val:1.209, acc: 0.478\n"
     ]
    },
    {
     "data": {
      "application/vnd.jupyter.widget-view+json": {
       "model_id": "",
       "version_major": 2,
       "version_minor": 0
      },
      "text/plain": [
       "HBox(children=(FloatProgress(value=0.0, description='train', max=140.0, style=ProgressStyle(description_width=…"
      ]
     },
     "metadata": {},
     "output_type": "display_data"
    },
    {
     "data": {
      "application/vnd.jupyter.widget-view+json": {
       "model_id": "",
       "version_major": 2,
       "version_minor": 0
      },
      "text/plain": [
       "HBox(children=(FloatProgress(value=0.0, description='eval', max=40.0, style=ProgressStyle(description_width='i…"
      ]
     },
     "metadata": {},
     "output_type": "display_data"
    },
    {
     "name": "stdout",
     "output_type": "stream",
     "text": [
      "epoch 019: loss_val:1.210, acc: 0.479\n",
      "\n"
     ]
    },
    {
     "data": {
      "application/vnd.jupyter.widget-view+json": {
       "model_id": "",
       "version_major": 2,
       "version_minor": 0
      },
      "text/plain": [
       "HBox(children=(FloatProgress(value=0.0, description='eval', max=40.0, style=ProgressStyle(description_width='i…"
      ]
     },
     "metadata": {},
     "output_type": "display_data"
    },
    {
     "data": {
      "application/vnd.jupyter.widget-view+json": {
       "model_id": "",
       "version_major": 2,
       "version_minor": 0
      },
      "text/plain": [
       "HBox(children=(FloatProgress(value=0.0, description='eval', max=20.0, style=ProgressStyle(description_width='i…"
      ]
     },
     "metadata": {},
     "output_type": "display_data"
    },
    {
     "name": "stdout",
     "output_type": "stream",
     "text": [
      "After:\n",
      "\tloss_val: 1.210 / acc_val: 0.479\n",
      "\tloss_test: 1.199 / acc_tes: 0.484\n"
     ]
    },
    {
     "data": {
      "application/vnd.jupyter.widget-view+json": {
       "model_id": "",
       "version_major": 2,
       "version_minor": 0
      },
      "text/plain": [
       "HBox(children=(FloatProgress(value=0.0, description='eval', max=20.0, style=ProgressStyle(description_width='i…"
      ]
     },
     "metadata": {},
     "output_type": "display_data"
    },
    {
     "name": "stdout",
     "output_type": "stream",
     "text": [
      "Trained model precision: 0.484\n"
     ]
    }
   ],
   "source": [
    "model = NodePredictor(n_classes, n_features_edges)\n",
    "criterion = torch.nn.CrossEntropyLoss()\n",
    "print(f\"Un-trained model precision: {evaluate(model, lambda f, g: f(g, g.edata['ft']), dt_test, criterion)[1]:.3f}\")\n",
    "train(model, criterion, lambda f, g: f(g, g.edata['ft']), dt_train, dt_val, dt_test, nb_epochs=20)\n",
    "print(f\"Trained model precision: {evaluate(model, lambda f, g: f(g, g.edata['ft']), dt_test, criterion)[1]:.3f}\")"
   ]
  },
  {
   "cell_type": "markdown",
   "metadata": {},
   "source": [
    "#### Observation\n",
    "\n",
    "The **GCN-based** classifier performs better than random draws and is not too far from the ideal baseline classifier.\n",
    "\n",
    "It can then be concluded that **Edge2Node** isn't totally irrelevant."
   ]
  }
 ],
 "metadata": {
  "kernelspec": {
   "display_name": "Python 3",
   "language": "python",
   "name": "python3"
  },
  "language_info": {
   "codemirror_mode": {
    "name": "ipython",
    "version": 3
   },
   "file_extension": ".py",
   "mimetype": "text/x-python",
   "name": "python",
   "nbconvert_exporter": "python",
   "pygments_lexer": "ipython3",
   "version": "3.8.6"
  }
 },
 "nbformat": 4,
 "nbformat_minor": 4
}
