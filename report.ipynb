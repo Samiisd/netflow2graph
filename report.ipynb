{
 "cells": [
  {
   "cell_type": "markdown",
   "metadata": {},
   "source": [
    "# GCN for Network Anomaly Detection\n",
    "\n",
    "\n",
    "This notebook introduces methods to use [**Graph Convolutional Network**](https://tkipf.github.io/graph-convolutional-networks/) (**GCN**) to detect anomalies in network flows.\n",
    "Being able to detect such anomalies could help preventing/stopping network attacks."
   ]
  },
  {
   "cell_type": "markdown",
   "metadata": {},
   "source": [
    "## Introduction"
   ]
  },
  {
   "cell_type": "markdown",
   "metadata": {},
   "source": [
    "### Introduction to GCN\n",
    "\n",
    "The basic idea behind **GCN** is the aggregation of the features from the neihborhood of each nodes. By repeating this operation $k$ times for a given node $U$, its resulting features is a combination of the features of the $k$-hop neighborhood of $U$.\n",
    "\n",
    "![GCN Animation Medium](https://miro.medium.com/max/600/1*wt31DAeKTVeDWmPqKprycw.gif)\n",
    "\n",
    "This simple yet powerfull operation allows us to capture implicit topological information of the node as well as explicit features. The resulting features can be used to determine the role of a node within the sub-graph it belongs to.\n",
    "\n",
    "> *Incrementing $k$ increases the diameter of the sub-graph from which $U$ is the center, however that doesn't make the model better since it can lead to [**over-smoothing**](https://arxiv.org/pdf/1812.08434.pdf), which results in having the same resulting features for all the nodes in the graph*\n",
    "\n",
    "To make it short, GCN propagate nodes features through edges."
   ]
  },
  {
   "cell_type": "markdown",
   "metadata": {},
   "source": [
    "### GCN for network anomaly detection\n",
    "\n",
    "#### Network capture to Graph\n",
    "A network snapshot can be represented by a graph by considering IPs as nodes and packet exchanges between IPs as edges (*ex: IP_A send TCP request to IP_B*). \n",
    "\n",
    "Below is shown a visualization of a network snapshot of 60 seconds:\n",
    "\n",
    "![Network graph representation](./data/network_image.png)\n",
    "\n",
    "#### Useful graph geometry\n",
    "\n",
    "The role of some nodes on the network can be guessed just by watching the graph representation.\n",
    "\n",
    "> For example, the **DNS** servers are probably the nodes at the center of the big clusters.\n",
    "\n",
    "We can hence infer **topological information are meaningful** in those graph and that **GCN** could be relevant to detect anomalies as detailed [here](https://github.com/harvardnlp/botnet-detection).\n",
    "\n",
    "#### Needs for more features\n",
    "\n",
    "However, **topological information are not sufficient** to detect more elabored attacks. For that purpose, **we need more features**, for example:\n",
    "\n",
    "- IP geographic localization\n",
    "- IP Reputation score (from websites as [UrlVoid](https://www.urlvoid.com/) for example)\n",
    "- IP Service Provider (ISP)\n",
    "\n",
    "However, those are information we don't necesseraly have access on the public datasets we can use to train our model. More generally, **we don't have access to any IP (graph node) related information for privacy reasons**.\n",
    "\n",
    "#### Edge-based features\n",
    "\n",
    "Fortunately, we can **interpolate features from packets**, within a certain time window:\n",
    "\n",
    "- Quantity of bytes (min, mean, median, max, std)\n",
    "- Number of packets\n",
    "- Protocol (TCP, UDP, ICMP)\n",
    "- Frequency\n",
    "- Connection Probability (that we could generate using another model)\n",
    "- Exchange history (encoded exchanges history, represented by a vector)\n",
    "- ...\n",
    "\n",
    "> That's true for almost all the available public datasets I've worked on: [CTU-13](https://www.stratosphereips.org/datasets-ctu13), [CSE-CIC-IDS2018 (2018)](https://www.unb.ca/cic/datasets/ids-2018.html), [UGR'16 (2016)](https://nesg.ugr.es/nesg-ugr16/index.php).\n",
    "\n",
    "Unfortunately, **GCNs are not defined to handle features on edges** and require features for nodes that we can not provide.\n",
    "\n",
    "#### Node features interpolation from edges\n",
    "\n",
    "Even if we were to have access to private IPs (node) information and therefore would have features on the nodes, we cannot ignore information from IPs interactions (edges).\n",
    "\n",
    "The issue is that there are, to the best of my knowledge, no researches on the subject.\n",
    "\n",
    "In this notebook, I try to explore a solution that I've naively entitled **Edge2Node** that consists of **interpolating node features as a non-linear combination of the in/out edges**. "
   ]
  },
  {
   "cell_type": "markdown",
   "metadata": {},
   "source": [
    "### Requirements\n",
    "At the time of writting this notebook, there are 3 major Deep Learning Graph libraries in python:\n",
    "\n",
    "- [Pytorch Geometric](https://github.com/rusty1s/pytorch_geometric)\n",
    "- [GraphNets](https://github.com/deepmind/graph_nets)\n",
    "- [Deep Graph Library (DGL)](https://github.com/dmlc/dgl)\n",
    "\n",
    "There aren't any concrete comparisons between the three yet, so I jut went with the one that attracted me the most. Since I'm more used to **PyTorch**, I've ignored **GraphNets**. **PyTorch-Geometric** implements a lot a GCN papers, however, it seemed a bit rough to me compared to **DGL**, which appeared to have a well thought pipeline and plans for the future.\n",
    "\n",
    "Conclusion, I had no real reasons to went with **DGL**, that's just intuition."
   ]
  },
  {
   "cell_type": "code",
   "execution_count": 1,
   "metadata": {},
   "outputs": [
    {
     "name": "stdout",
     "output_type": "stream",
     "text": [
      "Requirement already satisfied: torch==1.6.0 in /home/ultra/.local/lib/python3.8/site-packages (1.6.0)\n",
      "Requirement already satisfied: dgl==0.5.2 in /home/ultra/.local/lib/python3.8/site-packages (0.5.2)\n",
      "Requirement already satisfied: networkx==2.4 in /home/ultra/.local/lib/python3.8/site-packages (2.4)\n",
      "Requirement already satisfied: numpy==1.19.3 in /home/ultra/.local/lib/python3.8/site-packages (1.19.3)\n",
      "Requirement already satisfied: matplotlib==3.3.1 in /home/ultra/.local/lib/python3.8/site-packages (3.3.1)\n",
      "Requirement already satisfied: future in /home/ultra/.local/lib/python3.8/site-packages (from torch==1.6.0) (0.18.2)\n",
      "Requirement already satisfied: scipy>=1.1.0 in /home/ultra/.local/lib/python3.8/site-packages (from dgl==0.5.2) (1.4.1)\n",
      "Requirement already satisfied: requests>=2.19.0 in /opt/miniconda3/lib/python3.8/site-packages (from dgl==0.5.2) (2.24.0)\n",
      "Requirement already satisfied: decorator>=4.3.0 in /home/ultra/.local/lib/python3.8/site-packages (from networkx==2.4) (4.4.2)\n",
      "Requirement already satisfied: python-dateutil>=2.1 in /home/ultra/.local/lib/python3.8/site-packages (from matplotlib==3.3.1) (2.8.1)\n",
      "Requirement already satisfied: kiwisolver>=1.0.1 in /home/ultra/.local/lib/python3.8/site-packages (from matplotlib==3.3.1) (1.2.0)\n",
      "Requirement already satisfied: pyparsing!=2.0.4,!=2.1.2,!=2.1.6,>=2.0.3 in /home/ultra/.local/lib/python3.8/site-packages (from matplotlib==3.3.1) (2.4.7)\n",
      "Requirement already satisfied: cycler>=0.10 in /home/ultra/.local/lib/python3.8/site-packages (from matplotlib==3.3.1) (0.10.0)\n",
      "Requirement already satisfied: certifi>=2020.06.20 in /home/ultra/.local/lib/python3.8/site-packages (from matplotlib==3.3.1) (2020.6.20)\n",
      "Requirement already satisfied: pillow>=6.2.0 in /home/ultra/.local/lib/python3.8/site-packages (from matplotlib==3.3.1) (7.2.0)\n",
      "Requirement already satisfied: idna<3,>=2.5 in /opt/miniconda3/lib/python3.8/site-packages (from requests>=2.19.0->dgl==0.5.2) (2.10)\n",
      "Requirement already satisfied: chardet<4,>=3.0.2 in /opt/miniconda3/lib/python3.8/site-packages (from requests>=2.19.0->dgl==0.5.2) (3.0.4)\n",
      "Requirement already satisfied: urllib3!=1.25.0,!=1.25.1,<1.26,>=1.21.1 in /home/ultra/.local/lib/python3.8/site-packages (from requests>=2.19.0->dgl==0.5.2) (1.24.3)\n",
      "Requirement already satisfied: six>=1.5 in /home/ultra/.local/lib/python3.8/site-packages (from python-dateutil>=2.1->matplotlib==3.3.1) (1.15.0)\n"
     ]
    }
   ],
   "source": [
    "!pip install --user torch==1.6.0 dgl==0.5.2 networkx==2.4 numpy==1.19.3 matplotlib==3.3.1"
   ]
  },
  {
   "cell_type": "code",
   "execution_count": 2,
   "metadata": {},
   "outputs": [
    {
     "name": "stderr",
     "output_type": "stream",
     "text": [
      "Using backend: pytorch\n"
     ]
    }
   ],
   "source": [
    "import dgl\n",
    "import torch\n",
    "import networkx as nx\n",
    "import numpy as np"
   ]
  },
  {
   "cell_type": "markdown",
   "metadata": {},
   "source": [
    "### Project decomposition\n",
    "\n",
    "The notebook has required the following steps:\n",
    "\n",
    "1. Dataset Preparation:\n",
    "    - Truncate raw PCAP (drop useless data)\n",
    "    - Slide time Window\n",
    "    - Extract features for each interaction IP_A to IP_B within window (nb packets, nb bytes sent...)\n",
    "    - Graph Generation\n",
    "    \n",
    "2. GCN Model Design:\n",
    "    - Generate nodes features from in/out edges (**Edge2Node**)\n",
    "    - Apply GCN on the graph (using predicted nodes features)\n",
    "    - Generate edges embedding from new nodes features (**Node2Edge**)\n",
    "    - Classify nodes and edges using the computed features\n",
    "    \n",
    "3. Training:\n",
    "    - Loss to penalize errors on edge/node classification\n",
    "    - Basic ML pytorch training loop\n",
    "    - Model Evaluation\n",
    "    \n",
    "However, we will mainly focus on the step **2. GCN Model Design** here since the others steps are just a draft used for the proof of concept. "
   ]
  },
  {
   "cell_type": "markdown",
   "metadata": {},
   "source": [
    "## Edge2Node\n",
    "\n",
    "**Edge2Node** is the method we'll use to interpolate nodes features from edges features.\n",
    "\n",
    "> The idea is to describe a node as the influence it has on its neighbors and the influence they have on itself."
   ]
  },
  {
   "cell_type": "markdown",
   "metadata": {},
   "source": [
    "### Proof Of Concept\n",
    "\n",
    "In this section, we will apply the **Edge2Node** idea to a toy example.\n",
    "\n",
    "#### Problem definition\n",
    "\n",
    "/* - **FIXME**: add toy problem introduction (don't have any idea right now o_O)*/\n",
    "\n",
    "Let's suppose we have the following graph where edges model heat transfer between nodes:\n",
    "\n",
    "![edge2node_image](./data/edge2node_demo.png)\n",
    "\n",
    "How can we classify the nodes into the categories: **COLD**, **HOT** ?\n",
    "\n",
    "##### Intuitive solution\n",
    "\n",
    "An intuitive solution is to assert that a node is best described by its contribution to the local system stabilization, then the feature $F$ of a node $u$ would be: \n",
    "\n",
    "$$F(u) = \\sum_{v \\in \\mathcal{N}_{in}(u)}{W(v, u)}  - \\sum_{v \\in \\mathcal{N}_{out}(u)}{W(u, v)}$$\n",
    "\n",
    "It can be interpreted as : *A node loses the energy that goes through its out-edges and wins the energy that comes from its in-edges*.\n",
    "\n",
    "##### Solution application\n",
    "\n",
    "This process is represented by the following animation:\n",
    "\n",
    "![edge2node_demo](./data/edge2node.gif)\n",
    "\n",
    "We calculate that the contribution of the node $A$ to its neighborhood is:\n",
    "\n",
    "$$F(A) = w(C, A) - w(A, B) = -16 - 20 = -36$$\n",
    "\n",
    "Hence, the node $A$ loses a lot of heat, there is a **high probability** that a **HOT** node.\n",
    "\n",
    "By applying the same idea to the other nodes, we have:\n",
    "- $B$ gains a **bit** of heat (+4), there is a **slightly higher probability** that it is a **COLD** node\n",
    "- $C$ gains a **lot** of heat (+32), there is a **high probability** that it is a **COLD** node\n",
    "\n",
    "#### DGL implementation"
   ]
  },
  {
   "cell_type": "code",
   "execution_count": 3,
   "metadata": {},
   "outputs": [],
   "source": [
    "class DummyEdgeToNode(torch.nn.Module):\n",
    "    def forward(self, graph: dgl.DGLGraph, h):\n",
    "        \"\"\"\n",
    "        graph: DGLGraph on which we apply the operation\n",
    "        h: tensor of all edges features\n",
    "        \"\"\"\n",
    "        h_in  = h  # in-edges  -> energy gain\n",
    "        h_out = -h # out-edges -> energy loses\n",
    "        \n",
    "        # operations on local_scope do not affect the input graph\n",
    "        with graph.local_scope():\n",
    "            # shallow copy of the computed `h_in` and `h_out` as edges features\n",
    "            graph.edata['e_in'] = h_in\n",
    "            graph.edata['e_out'] = h_out\n",
    "            \n",
    "            # 1. Handle IN-EDGES\n",
    "            # build and apply message passing function to the graph\n",
    "            graph.update_all(\n",
    "                # copy in-edges features `e_in` in the mailboxes `n_in` of the nodes\n",
    "                dgl.function.copy_e('e_in', 'n_in'), \n",
    "                # reduce the messages of the mailboxes `n_in` by summing them and store\n",
    "                # the result into `n_in`\n",
    "                dgl.function.sum('n_in', 'n_in')\n",
    "            )\n",
    "            \n",
    "            # 2. Handle OUT-EDGES\n",
    "            # At the time of writing, we can't apply message passing algorithm on out-edges\n",
    "            # with DGL. The only way I've found is to re-apply the previous logic on the\n",
    "            # reversed-graph, so the out-edges become in-edges.\n",
    "            graph = graph.reverse(copy_ndata=True, copy_edata=True)\n",
    "            graph.update_all(\n",
    "                dgl.function.copy_e('e_out', 'n_out'), \n",
    "                dgl.function.sum('n_out', 'n_out')\n",
    "            )\n",
    "            \n",
    "            return graph.ndata['n_in'] + graph.ndata['n_out']"
   ]
  },
  {
   "cell_type": "code",
   "execution_count": 19,
   "metadata": {},
   "outputs": [
    {
     "name": "stdout",
     "output_type": "stream",
     "text": [
      "A = -36.0\n",
      "B = 4.0\n",
      "C = 32.0\n"
     ]
    }
   ],
   "source": [
    "dummy_e2n = DummyEdgeToNode()\n",
    "\n",
    "# we create the toy example graph\n",
    "uv = [0, 1, 2, 2], [1, 2, 1, 0] # directed edges ('A'<=>0, 'B'<=>1, 'C'<=>2)\n",
    "G = dgl.graph(uv)\n",
    "\n",
    "# we apply the dummy e2n\n",
    "edge_features = torch.tensor([20., 12., -4., -16.])\n",
    "node_features = dummy_e2n(graph=G, h=edge_features).numpy()\n",
    "\n",
    "## tada!\n",
    "print(f\"A = {node_features[0]}\")\n",
    "print(f\"B = {node_features[1]}\")\n",
    "print(f\"C = {node_features[2]}\")"
   ]
  },
  {
   "cell_type": "markdown",
   "metadata": {},
   "source": [
    "##### Going Further\n",
    "\n",
    "...."
   ]
  }
 ],
 "metadata": {
  "kernelspec": {
   "display_name": "Python 3",
   "language": "python",
   "name": "python3"
  },
  "language_info": {
   "codemirror_mode": {
    "name": "ipython",
    "version": 3
   },
   "file_extension": ".py",
   "mimetype": "text/x-python",
   "name": "python",
   "nbconvert_exporter": "python",
   "pygments_lexer": "ipython3",
   "version": "3.8.6"
  }
 },
 "nbformat": 4,
 "nbformat_minor": 4
}
