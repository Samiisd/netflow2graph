{
 "cells": [
  {
   "cell_type": "markdown",
   "metadata": {},
   "source": [
    "# GCN for Network Anomaly Detection\n",
    "\n",
    "\n",
    "This notebook introduces methods to use [**Graph Convolutional Network**](https://tkipf.github.io/graph-convolutional-networks/) (**GCN**) to detect anomalies in network flows.\n",
    "Being able to detect such anomalies could help preventing/stopping network attacks."
   ]
  },
  {
   "cell_type": "markdown",
   "metadata": {},
   "source": [
    "## Introduction"
   ]
  },
  {
   "cell_type": "markdown",
   "metadata": {},
   "source": [
    "### Introduction to GCN\n",
    "\n",
    "The basic idea behind **GCN** is the aggregation of the features from the neihborhood of each nodes. By repeating this operation $k$ times for a given node $U$, its resulting features is a combination of the features of the $k$-hop neighborhood of $U$.\n",
    "\n",
    "This simple yet powerfull operation allows us to capture implicit topological information of the node as well as explicit features. The resulting features can be used to determine the role of a node within the sub-graph it belongs to.\n",
    "\n",
    "> *Incrementing $k$ increases the diameter of the sub-graph from which $U$ is the center, however that doesn't make the model better since it can lead to oversmoothing, which results in having the same resulting features for all the nodes in the graph*\n",
    "\n",
    "To make it short, GCN propagate nodes features through edges."
   ]
  },
  {
   "cell_type": "markdown",
   "metadata": {},
   "source": [
    "### GCN for network anomaly detection\n",
    "\n",
    "#### Network capture to Graph\n",
    "A network snapshot can be represented by a graph by considering IPs as nodes and packet exchanges between IPs as edges (*ex: IP_A send TCP request to IP_B*). \n",
    "\n",
    "Below is shown a visualization of a network snapshot of 60 seconds:\n",
    "\n",
    "![Network graph representation](./data/network_image.png)\n",
    "\n",
    "#### Useful graph geometry\n",
    "\n",
    "The role of some nodes on the network can be guessed just by watching the graph representation.\n",
    "\n",
    "> For example, the **DNS** servers are probably the nodes at the center of the big clusters.\n",
    "\n",
    "We can hence infer **topological information are meaningful** in those graph and that **GCN** could be relevant to detect anomalies as detailed [here](https://github.com/harvardnlp/botnet-detection).\n",
    "\n",
    "#### Needs for more features\n",
    "\n",
    "However, **topological information are not sufficient** to detect more elabored attacks. For that purpose, **we need more features**, for example:\n",
    "\n",
    "- IP geographic localization\n",
    "- IP Reputation score (from websites as [UrlVoid](https://www.urlvoid.com/) for example)\n",
    "- IP Service Provider (ISP)\n",
    "\n",
    "However, those are information we don't necesseraly have access on the public datasets we can use to train our model. More generally, **we don't have access to any IP (graph node) related information for privacy reasons**.\n",
    "\n",
    "#### Edge-based features\n",
    "\n",
    "Fortunately, we can **interpolate features from packets**, within a certain time window:\n",
    "\n",
    "- Quantity of bytes (min, mean, median, max, std)\n",
    "- Number of packet\n",
    "- Protocol (TCP, UDP, ICMP)\n",
    "- ...\n",
    "\n",
    "> That's true for almost all the available public datasets I've worked on: [CTU-13](https://www.stratosphereips.org/datasets-ctu13), [CSE-CIC-IDS2018 (2018)](https://www.unb.ca/cic/datasets/ids-2018.html), [UGR'16 (2016)](https://nesg.ugr.es/nesg-ugr16/index.php).\n",
    "\n",
    "Unfortunately, **GCNs are not defined to handle features on edges** and require features for nodes that we can not provide.\n",
    "\n",
    "#### Node features interpolation from edges\n",
    "\n",
    "Even if we were to have access to private IPs (node) information and therefore would have features on the nodes, we cannot ignore information from IPs interactions (edges).\n",
    "\n",
    "The issue is that there are, to the best of my knowledge, no researches on the subject.\n",
    "\n",
    "In this notebook, I try to explore a solution that I've naively entitled **Edge2Node** that consists of **interpolating node features as a non-linear combination of the in/out edges**. "
   ]
  },
  {
   "cell_type": "markdown",
   "metadata": {},
   "source": [
    "### Requirements\n",
    "At the time of writting this notebook, there are 3 major Deep Learning Graph libraries in python:\n",
    "\n",
    "- [Pytorch Geometric](https://github.com/rusty1s/pytorch_geometric)\n",
    "- [GraphNets](https://github.com/deepmind/graph_nets)\n",
    "- [Deep Graph Library (DGL)](https://github.com/dmlc/dgl)\n",
    "\n",
    "There aren't any concrete comparisons between the three yet, so I jut went with the one that attracted me the most. Since I'm more used to **PyTorch**, I've ignored **GraphNets**. **PyTorch-Geometric** implements a lot a GCN papers, however, it seemed a bit rough to me compared to **DGL**, which appeared to have a well thought pipeline and plans for the future.\n",
    "\n",
    "Conclusion, I had no real reasons to went with **DGL**, that's just intuition."
   ]
  },
  {
   "cell_type": "code",
   "execution_count": 7,
   "metadata": {},
   "outputs": [
    {
     "name": "stdout",
     "output_type": "stream",
     "text": [
      "Requirement already satisfied: torch==1.6.0 in /home/ultra/.local/lib/python3.8/site-packages (1.6.0+cpu)\n",
      "Requirement already satisfied: dgl==0.5.2 in /home/ultra/.local/lib/python3.8/site-packages (0.5.2)\n",
      "Requirement already satisfied: networkx==2.4 in /home/ultra/.local/lib/python3.8/site-packages (2.4)\n",
      "Requirement already satisfied: future in /home/ultra/.local/lib/python3.8/site-packages (from torch==1.6.0) (0.18.2)\n",
      "Requirement already satisfied: numpy in /home/ultra/.local/lib/python3.8/site-packages (from torch==1.6.0) (1.18.4)\n",
      "Requirement already satisfied: requests>=2.19.0 in /usr/lib/python3.8/site-packages (from dgl==0.5.2) (2.24.0)\n",
      "Requirement already satisfied: scipy>=1.1.0 in /home/ultra/.local/lib/python3.8/site-packages (from dgl==0.5.2) (1.4.1)\n",
      "Requirement already satisfied: decorator>=4.3.0 in /home/ultra/.local/lib/python3.8/site-packages (from networkx==2.4) (4.4.2)\n",
      "Requirement already satisfied: chardet>=3.0.2 in /usr/lib/python3.8/site-packages (from requests>=2.19.0->dgl==0.5.2) (3.0.4)\n",
      "Requirement already satisfied: idna>=2.5 in /usr/lib/python3.8/site-packages (from requests>=2.19.0->dgl==0.5.2) (2.10)\n",
      "Requirement already satisfied: urllib3>=1.21.1 in /usr/lib/python3.8/site-packages (from requests>=2.19.0->dgl==0.5.2) (1.25.10)\n"
     ]
    }
   ],
   "source": [
    "!pip install --user torch==1.6.0 dgl==0.5.2 networkx==2.4"
   ]
  },
  {
   "cell_type": "markdown",
   "metadata": {},
   "source": [
    "### Project decomposition\n",
    "\n",
    "The notebook has required the following steps:\n",
    "\n",
    "1. Dataset Preparation:\n",
    "    - Truncate raw PCAP (drop useless data)\n",
    "    - Slide time Window\n",
    "    - Extract features for each interaction IP_A to IP_B within window (nb packets, nb bytes sent...)\n",
    "    - Graph Generation\n",
    "    \n",
    "2. GCN Model Design:\n",
    "    - Generate nodes features from in/out edges (**Edge2Node**)\n",
    "    - Apply GCN on the graph (using predicted nodes features)\n",
    "    - Generate edges embedding from new nodes features (**Node2Edge**)\n",
    "    - Classify nodes and edges using the computed features\n",
    "    \n",
    "3. Training:\n",
    "    - Loss to penalize errors on edge/node classification\n",
    "    - Basic ML pytorch training loop\n",
    "    - Model Evaluation\n",
    "    \n",
    "However, we will mainly focus on the step **2. GCN Model Design** here since the others steps are just a draft used for the proof of concept. "
   ]
  },
  {
   "cell_type": "markdown",
   "metadata": {},
   "source": [
    "## Edge2Node: Proof Of Concept"
   ]
  },
  {
   "cell_type": "code",
   "execution_count": null,
   "metadata": {},
   "outputs": [],
   "source": [
    "import torch\n",
    "import networkx as nx\n",
    "import numpy as np\n",
    "\n",
    "import dgl\n"
   ]
  }
 ],
 "metadata": {
  "kernelspec": {
   "display_name": "Python 3",
   "language": "python",
   "name": "python3"
  },
  "language_info": {
   "codemirror_mode": {
    "name": "ipython",
    "version": 3
   },
   "file_extension": ".py",
   "mimetype": "text/x-python",
   "name": "python",
   "nbconvert_exporter": "python",
   "pygments_lexer": "ipython3",
   "version": "3.8.5"
  }
 },
 "nbformat": 4,
 "nbformat_minor": 4
}
